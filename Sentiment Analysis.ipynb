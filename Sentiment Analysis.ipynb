{
 "cells": [
  {
   "cell_type": "markdown",
   "id": "c6681c0f",
   "metadata": {},
   "source": [
    "# Performing Sentiment Analysis on the Amazon Review Dataset"
   ]
  },
  {
   "cell_type": "markdown",
   "id": "a0ff8cdc",
   "metadata": {},
   "source": [
    "## Importing Packages"
   ]
  },
  {
   "cell_type": "code",
   "execution_count": 1,
   "id": "41ad498e",
   "metadata": {},
   "outputs": [],
   "source": [
    "import numpy as np\n",
    "import pandas as pd\n",
    "import matplotlib.pyplot as plt\n",
    "import seaborn as sns\n",
    "import string\n",
    "import re\n",
    "import nltk\n",
    "import textblob\n",
    "\n",
    "from textblob import TextBlob\n",
    "from textblob import Word\n",
    "#from spellchecker import SpellChecker\n",
    "from nltk import tokenize\n",
    "from nltk.corpus import stopwords\n",
    "from nltk.stem import PorterStemmer\n",
    "from nltk.stem import WordNetLemmatizer\n",
    "from nltk.probability import FreqDist\n",
    "from sklearn.feature_extraction.text import CountVectorizer\n",
    "from nltk.sentiment import SentimentIntensityAnalyzer\n",
    "from tqdm.notebook import tqdm"
   ]
  },
  {
   "cell_type": "code",
   "execution_count": 2,
   "id": "19f28d60",
   "metadata": {},
   "outputs": [
    {
     "data": {
      "text/html": [
       "<div>\n",
       "<style scoped>\n",
       "    .dataframe tbody tr th:only-of-type {\n",
       "        vertical-align: middle;\n",
       "    }\n",
       "\n",
       "    .dataframe tbody tr th {\n",
       "        vertical-align: top;\n",
       "    }\n",
       "\n",
       "    .dataframe thead th {\n",
       "        text-align: right;\n",
       "    }\n",
       "</style>\n",
       "<table border=\"1\" class=\"dataframe\">\n",
       "  <thead>\n",
       "    <tr style=\"text-align: right;\">\n",
       "      <th></th>\n",
       "      <th>Review Model</th>\n",
       "      <th>Retailer</th>\n",
       "      <th>Review date</th>\n",
       "      <th>Review name</th>\n",
       "      <th>Review rating</th>\n",
       "      <th>Review title</th>\n",
       "      <th>Review Content</th>\n",
       "      <th>Verified Purchase or not</th>\n",
       "      <th>People_find_helpful</th>\n",
       "      <th>vine or not</th>\n",
       "      <th>...</th>\n",
       "      <th>content_stopwords</th>\n",
       "      <th>title_stopwords</th>\n",
       "      <th>Brand</th>\n",
       "      <th>Full review</th>\n",
       "      <th>ID</th>\n",
       "      <th>Topic0</th>\n",
       "      <th>Topic1</th>\n",
       "      <th>Topic2</th>\n",
       "      <th>Topic3</th>\n",
       "      <th>Topic4</th>\n",
       "    </tr>\n",
       "  </thead>\n",
       "  <tbody>\n",
       "    <tr>\n",
       "      <th>0</th>\n",
       "      <td>Canon Pixma TS6420a</td>\n",
       "      <td>Amazon</td>\n",
       "      <td>2023-08-10</td>\n",
       "      <td>Ernest Birkholz</td>\n",
       "      <td>5</td>\n",
       "      <td>work great</td>\n",
       "      <td>easi instal work great</td>\n",
       "      <td>True</td>\n",
       "      <td>0</td>\n",
       "      <td>False</td>\n",
       "      <td>...</td>\n",
       "      <td>3</td>\n",
       "      <td>0</td>\n",
       "      <td>Canon</td>\n",
       "      <td>work great easi instal work great</td>\n",
       "      <td>0</td>\n",
       "      <td>0.192308</td>\n",
       "      <td>0.192344</td>\n",
       "      <td>0.192308</td>\n",
       "      <td>0.230732</td>\n",
       "      <td>0.192308</td>\n",
       "    </tr>\n",
       "    <tr>\n",
       "      <th>1</th>\n",
       "      <td>HP OfficeJet Pro 9015e</td>\n",
       "      <td>Amazon</td>\n",
       "      <td>2022-06-04</td>\n",
       "      <td>mattey</td>\n",
       "      <td>3</td>\n",
       "      <td>spunki mid size</td>\n",
       "      <td>slower speed im use old model 8600 new 9015e s...</td>\n",
       "      <td>True</td>\n",
       "      <td>0</td>\n",
       "      <td>False</td>\n",
       "      <td>...</td>\n",
       "      <td>19</td>\n",
       "      <td>0</td>\n",
       "      <td>HP</td>\n",
       "      <td>spunki mid size slower speed im use old model ...</td>\n",
       "      <td>1</td>\n",
       "      <td>0.219016</td>\n",
       "      <td>0.111844</td>\n",
       "      <td>0.293459</td>\n",
       "      <td>0.163706</td>\n",
       "      <td>0.211975</td>\n",
       "    </tr>\n",
       "    <tr>\n",
       "      <th>2</th>\n",
       "      <td>Canon PIXMA MG3620</td>\n",
       "      <td>Amazon</td>\n",
       "      <td>2023-03-15</td>\n",
       "      <td>Maria D</td>\n",
       "      <td>4</td>\n",
       "      <td>NaN</td>\n",
       "      <td>i</td>\n",
       "      <td>True</td>\n",
       "      <td>0</td>\n",
       "      <td>False</td>\n",
       "      <td>...</td>\n",
       "      <td>0</td>\n",
       "      <td>0</td>\n",
       "      <td>Canon</td>\n",
       "      <td>i</td>\n",
       "      <td>2</td>\n",
       "      <td>0.200007</td>\n",
       "      <td>0.199993</td>\n",
       "      <td>0.200005</td>\n",
       "      <td>0.200003</td>\n",
       "      <td>0.199992</td>\n",
       "    </tr>\n",
       "    <tr>\n",
       "      <th>3</th>\n",
       "      <td>Epson - ET-3830</td>\n",
       "      <td>Amazon</td>\n",
       "      <td>2022-11-17</td>\n",
       "      <td>Ryan H</td>\n",
       "      <td>5</td>\n",
       "      <td>shag know he talk</td>\n",
       "      <td>yup slam upgrad paid littl front equival throw...</td>\n",
       "      <td>True</td>\n",
       "      <td>12</td>\n",
       "      <td>False</td>\n",
       "      <td>...</td>\n",
       "      <td>31</td>\n",
       "      <td>2</td>\n",
       "      <td>Epson</td>\n",
       "      <td>shag know he talk yup slam upgrad paid littl f...</td>\n",
       "      <td>3</td>\n",
       "      <td>0.168985</td>\n",
       "      <td>0.165481</td>\n",
       "      <td>0.239302</td>\n",
       "      <td>0.162820</td>\n",
       "      <td>0.263412</td>\n",
       "    </tr>\n",
       "    <tr>\n",
       "      <th>4</th>\n",
       "      <td>HP ENVY 6055e</td>\n",
       "      <td>Amazon</td>\n",
       "      <td>2022-04-09</td>\n",
       "      <td>Sam</td>\n",
       "      <td>3</td>\n",
       "      <td>user friendli</td>\n",
       "      <td>would think someth simpl reconnect wifi would ...</td>\n",
       "      <td>True</td>\n",
       "      <td>0</td>\n",
       "      <td>False</td>\n",
       "      <td>...</td>\n",
       "      <td>71</td>\n",
       "      <td>0</td>\n",
       "      <td>HP</td>\n",
       "      <td>user friendli would think someth simpl reconne...</td>\n",
       "      <td>4</td>\n",
       "      <td>0.261938</td>\n",
       "      <td>0.203476</td>\n",
       "      <td>0.118563</td>\n",
       "      <td>0.275790</td>\n",
       "      <td>0.140233</td>\n",
       "    </tr>\n",
       "  </tbody>\n",
       "</table>\n",
       "<p>5 rows × 32 columns</p>\n",
       "</div>"
      ],
      "text/plain": [
       "             Review Model Retailer Review date      Review name  \\\n",
       "0     Canon Pixma TS6420a   Amazon  2023-08-10  Ernest Birkholz   \n",
       "1  HP OfficeJet Pro 9015e   Amazon  2022-06-04           mattey   \n",
       "2      Canon PIXMA MG3620   Amazon  2023-03-15          Maria D   \n",
       "3         Epson - ET-3830   Amazon  2022-11-17           Ryan H   \n",
       "4           HP ENVY 6055e   Amazon  2022-04-09              Sam   \n",
       "\n",
       "   Review rating       Review title  \\\n",
       "0              5         work great   \n",
       "1              3    spunki mid size   \n",
       "2              4                NaN   \n",
       "3              5  shag know he talk   \n",
       "4              3      user friendli   \n",
       "\n",
       "                                      Review Content  \\\n",
       "0                             easi instal work great   \n",
       "1  slower speed im use old model 8600 new 9015e s...   \n",
       "2                                                  i   \n",
       "3  yup slam upgrad paid littl front equival throw...   \n",
       "4  would think someth simpl reconnect wifi would ...   \n",
       "\n",
       "   Verified Purchase or not  People_find_helpful  vine or not  ...  \\\n",
       "0                      True                    0        False  ...   \n",
       "1                      True                    0        False  ...   \n",
       "2                      True                    0        False  ...   \n",
       "3                      True                   12        False  ...   \n",
       "4                      True                    0        False  ...   \n",
       "\n",
       "  content_stopwords  title_stopwords  Brand  \\\n",
       "0                 3                0  Canon   \n",
       "1                19                0     HP   \n",
       "2                 0                0  Canon   \n",
       "3                31                2  Epson   \n",
       "4                71                0     HP   \n",
       "\n",
       "                                         Full review ID    Topic0    Topic1  \\\n",
       "0                  work great easi instal work great  0  0.192308  0.192344   \n",
       "1  spunki mid size slower speed im use old model ...  1  0.219016  0.111844   \n",
       "2                                                  i  2  0.200007  0.199993   \n",
       "3  shag know he talk yup slam upgrad paid littl f...  3  0.168985  0.165481   \n",
       "4  user friendli would think someth simpl reconne...  4  0.261938  0.203476   \n",
       "\n",
       "     Topic2    Topic3    Topic4  \n",
       "0  0.192308  0.230732  0.192308  \n",
       "1  0.293459  0.163706  0.211975  \n",
       "2  0.200005  0.200003  0.199992  \n",
       "3  0.239302  0.162820  0.263412  \n",
       "4  0.118563  0.275790  0.140233  \n",
       "\n",
       "[5 rows x 32 columns]"
      ]
     },
     "execution_count": 2,
     "metadata": {},
     "output_type": "execute_result"
    }
   ],
   "source": [
    "# Loading the Excel file with the LDA Topic Model appended into a DataFrame\n",
    "df_SA = pd.read_excel('amazon_review_processed_full.xlsx')\n",
    "\n",
    "df_SA['ID'] = range(0, len(df_SA))\n",
    "\n",
    "# Displaying the DataFrame\n",
    "df_SA.head(5)"
   ]
  },
  {
   "cell_type": "markdown",
   "id": "82ca42ae",
   "metadata": {},
   "source": [
    "## Vader Sentiment Scoring on Original Review Content"
   ]
  },
  {
   "cell_type": "code",
   "execution_count": 3,
   "id": "a7743d5c",
   "metadata": {},
   "outputs": [],
   "source": [
    "sia = SentimentIntensityAnalyzer()"
   ]
  },
  {
   "cell_type": "code",
   "execution_count": 4,
   "id": "a4d5abea",
   "metadata": {},
   "outputs": [],
   "source": [
    "# Converting Review Content to string type in order to run Vader Sentiment Analysis\n",
    "df_SA['Original review'] = df_SA['Original review'].astype(str)"
   ]
  },
  {
   "cell_type": "markdown",
   "id": "12ccfe92",
   "metadata": {},
   "source": [
    "### Running the Vader Sentiment Analysis"
   ]
  },
  {
   "cell_type": "code",
   "execution_count": 5,
   "id": "376d9c37",
   "metadata": {},
   "outputs": [
    {
     "data": {
      "application/vnd.jupyter.widget-view+json": {
       "model_id": "3ef0e67f57894c53925d856a54564302",
       "version_major": 2,
       "version_minor": 0
      },
      "text/plain": [
       "  0%|          | 0/10209 [00:00<?, ?it/s]"
      ]
     },
     "metadata": {},
     "output_type": "display_data"
    }
   ],
   "source": [
    "# Running the polarity score on the entire dataset\n",
    "res = {}\n",
    "for i, row in tqdm(df_SA.iterrows(), total=len(df_SA)):\n",
    "    text = row['Original review']\n",
    "    myid = row['ID']\n",
    "    res[myid] = sia.polarity_scores(text)"
   ]
  },
  {
   "cell_type": "code",
   "execution_count": 6,
   "id": "52fc3ce2",
   "metadata": {},
   "outputs": [
    {
     "data": {
      "text/html": [
       "<div>\n",
       "<style scoped>\n",
       "    .dataframe tbody tr th:only-of-type {\n",
       "        vertical-align: middle;\n",
       "    }\n",
       "\n",
       "    .dataframe tbody tr th {\n",
       "        vertical-align: top;\n",
       "    }\n",
       "\n",
       "    .dataframe thead th {\n",
       "        text-align: right;\n",
       "    }\n",
       "</style>\n",
       "<table border=\"1\" class=\"dataframe\">\n",
       "  <thead>\n",
       "    <tr style=\"text-align: right;\">\n",
       "      <th></th>\n",
       "      <th>Review rating</th>\n",
       "      <th>compound</th>\n",
       "    </tr>\n",
       "  </thead>\n",
       "  <tbody>\n",
       "    <tr>\n",
       "      <th>0</th>\n",
       "      <td>5</td>\n",
       "      <td>0.7906</td>\n",
       "    </tr>\n",
       "    <tr>\n",
       "      <th>1</th>\n",
       "      <td>3</td>\n",
       "      <td>0.8502</td>\n",
       "    </tr>\n",
       "    <tr>\n",
       "      <th>2</th>\n",
       "      <td>4</td>\n",
       "      <td>0.0000</td>\n",
       "    </tr>\n",
       "    <tr>\n",
       "      <th>3</th>\n",
       "      <td>5</td>\n",
       "      <td>0.8003</td>\n",
       "    </tr>\n",
       "    <tr>\n",
       "      <th>4</th>\n",
       "      <td>3</td>\n",
       "      <td>-0.5945</td>\n",
       "    </tr>\n",
       "    <tr>\n",
       "      <th>...</th>\n",
       "      <td>...</td>\n",
       "      <td>...</td>\n",
       "    </tr>\n",
       "    <tr>\n",
       "      <th>10204</th>\n",
       "      <td>5</td>\n",
       "      <td>0.0000</td>\n",
       "    </tr>\n",
       "    <tr>\n",
       "      <th>10205</th>\n",
       "      <td>5</td>\n",
       "      <td>0.0000</td>\n",
       "    </tr>\n",
       "    <tr>\n",
       "      <th>10206</th>\n",
       "      <td>1</td>\n",
       "      <td>0.0000</td>\n",
       "    </tr>\n",
       "    <tr>\n",
       "      <th>10207</th>\n",
       "      <td>1</td>\n",
       "      <td>0.0000</td>\n",
       "    </tr>\n",
       "    <tr>\n",
       "      <th>10208</th>\n",
       "      <td>4</td>\n",
       "      <td>0.0000</td>\n",
       "    </tr>\n",
       "  </tbody>\n",
       "</table>\n",
       "<p>10209 rows × 2 columns</p>\n",
       "</div>"
      ],
      "text/plain": [
       "       Review rating  compound\n",
       "0                  5    0.7906\n",
       "1                  3    0.8502\n",
       "2                  4    0.0000\n",
       "3                  5    0.8003\n",
       "4                  3   -0.5945\n",
       "...              ...       ...\n",
       "10204              5    0.0000\n",
       "10205              5    0.0000\n",
       "10206              1    0.0000\n",
       "10207              1    0.0000\n",
       "10208              4    0.0000\n",
       "\n",
       "[10209 rows x 2 columns]"
      ]
     },
     "execution_count": 6,
     "metadata": {},
     "output_type": "execute_result"
    }
   ],
   "source": [
    "# Merging the vader model results with the original dataframe\n",
    "\n",
    "vaders = pd.DataFrame(res).T\n",
    "vaders = vaders.reset_index().rename(columns={'index':'ID'})\n",
    "vaders = vaders.merge(df_SA, how='left')\n",
    "\n",
    "# Viewing the vaders model results\n",
    "vaders[['Review rating','compound']]"
   ]
  },
  {
   "cell_type": "markdown",
   "id": "22e18aa9",
   "metadata": {},
   "source": [
    "## Plotting VADER results on Original Review Content"
   ]
  },
  {
   "cell_type": "code",
   "execution_count": 7,
   "id": "d1d7fbed",
   "metadata": {},
   "outputs": [
    {
     "data": {
      "image/png": "[encoded data removed]",
      "text/plain": [
       "<Figure size 1500x500 with 3 Axes>"
      ]
     },
     "metadata": {},
     "output_type": "display_data"
    }
   ],
   "source": [
    "fig, axs = plt.subplots(1,3, figsize = (15,5))\n",
    "sns.barplot(data=vaders, x='Review rating', y = 'pos', ax=axs[0])\n",
    "sns.barplot(data=vaders, x='Review rating', y = 'neu', ax=axs[1])\n",
    "sns.barplot(data=vaders, x='Review rating', y = 'neg', ax=axs[2])\n",
    "axs[0].set_title('Positive')\n",
    "axs[1].set_title('Neutral')\n",
    "axs[2].set_title('Negative')\n",
    "plt.tight_layout()\n",
    "plt.show()"
   ]
  },
  {
   "cell_type": "markdown",
   "id": "f20617f5",
   "metadata": {},
   "source": [
    "Remarks: As expected, for ratings that are higher, they are more likely to get a higher positive score, while ratings that are lower got a higher negative score."
   ]
  },
  {
   "cell_type": "code",
   "execution_count": 8,
   "id": "14a34386",
   "metadata": {},
   "outputs": [
    {
     "data": {
      "image/png": "[encoded data removed]",
      "text/plain": [
       "<Figure size 640x480 with 1 Axes>"
      ]
     },
     "metadata": {},
     "output_type": "display_data"
    }
   ],
   "source": [
    "ax = sns.boxplot(x=\"Review rating\", y=\"compound\", data=vaders, width=0.4)\n",
    "ax.set_title('Compound Score by Amazon Reviews')\n",
    "plt.show()"
   ]
  },
  {
   "cell_type": "markdown",
   "id": "1479a707",
   "metadata": {},
   "source": [
    "Intepretation of the compound score:\n",
    "\n",
    "The compound score is a metric that calculates the sum of all the lexicon ratings which have been normalized between -1 (most extreme negative) and +1 (most extreme positive).\n",
    "\n",
    "Positive sentiment: compound score >= 0.05\n",
    "\n",
    "Neutral sentiment: -0.05 < compound score < 0.05\n",
    "\n",
    "Negative sentiment : compound score <= -0.05\n",
    "\n",
    "As we can see, lower ratings have more negative compound scores compared to higher ratings. For the higher ratings, there are a number of negative compound scores which may suggest wrong classification by the model which we will take a closer look in the next section"
   ]
  },
  {
   "cell_type": "markdown",
   "id": "fd68f1a6",
   "metadata": {},
   "source": [
    "## Reviewing Examples from the Vader Model Output"
   ]
  },
  {
   "cell_type": "code",
   "execution_count": 9,
   "id": "31df3053",
   "metadata": {},
   "outputs": [],
   "source": [
    "vaders = vaders.rename(columns={'Review rating': 'Review_rating'})"
   ]
  },
  {
   "cell_type": "code",
   "execution_count": 10,
   "id": "8a71e9c6",
   "metadata": {},
   "outputs": [
    {
     "data": {
      "text/html": [
       "<div>\n",
       "<style scoped>\n",
       "    .dataframe tbody tr th:only-of-type {\n",
       "        vertical-align: middle;\n",
       "    }\n",
       "\n",
       "    .dataframe tbody tr th {\n",
       "        vertical-align: top;\n",
       "    }\n",
       "\n",
       "    .dataframe thead th {\n",
       "        text-align: right;\n",
       "    }\n",
       "</style>\n",
       "<table border=\"1\" class=\"dataframe\">\n",
       "  <thead>\n",
       "    <tr style=\"text-align: right;\">\n",
       "      <th></th>\n",
       "      <th>ID</th>\n",
       "      <th>neg</th>\n",
       "      <th>neu</th>\n",
       "      <th>pos</th>\n",
       "      <th>compound</th>\n",
       "      <th>Review Model</th>\n",
       "      <th>Retailer</th>\n",
       "      <th>Review date</th>\n",
       "      <th>Review name</th>\n",
       "      <th>Review_rating</th>\n",
       "      <th>...</th>\n",
       "      <th>title_avg_word</th>\n",
       "      <th>content_stopwords</th>\n",
       "      <th>title_stopwords</th>\n",
       "      <th>Brand</th>\n",
       "      <th>Full review</th>\n",
       "      <th>Topic0</th>\n",
       "      <th>Topic1</th>\n",
       "      <th>Topic2</th>\n",
       "      <th>Topic3</th>\n",
       "      <th>Topic4</th>\n",
       "    </tr>\n",
       "  </thead>\n",
       "  <tbody>\n",
       "    <tr>\n",
       "      <th>4190</th>\n",
       "      <td>4190</td>\n",
       "      <td>0.019</td>\n",
       "      <td>0.864</td>\n",
       "      <td>0.117</td>\n",
       "      <td>0.9993</td>\n",
       "      <td>Epson - ET-3830</td>\n",
       "      <td>Amazon</td>\n",
       "      <td>2021-12-06</td>\n",
       "      <td>Just Josh</td>\n",
       "      <td>5</td>\n",
       "      <td>...</td>\n",
       "      <td>4.833333</td>\n",
       "      <td>592</td>\n",
       "      <td>2</td>\n",
       "      <td>Epson</td>\n",
       "      <td>great high qualiti econom color scanner add ec...</td>\n",
       "      <td>0.134562</td>\n",
       "      <td>0.041783</td>\n",
       "      <td>0.504710</td>\n",
       "      <td>0.188026</td>\n",
       "      <td>0.130919</td>\n",
       "    </tr>\n",
       "    <tr>\n",
       "      <th>7558</th>\n",
       "      <td>7558</td>\n",
       "      <td>0.046</td>\n",
       "      <td>0.770</td>\n",
       "      <td>0.184</td>\n",
       "      <td>0.9991</td>\n",
       "      <td>Epson - ET-4850</td>\n",
       "      <td>Amazon</td>\n",
       "      <td>2022-07-15</td>\n",
       "      <td>JOE SWABODA</td>\n",
       "      <td>5</td>\n",
       "      <td>...</td>\n",
       "      <td>7.000000</td>\n",
       "      <td>336</td>\n",
       "      <td>0</td>\n",
       "      <td>Epson</td>\n",
       "      <td>deliv purchas unit directli amazon impress per...</td>\n",
       "      <td>0.209669</td>\n",
       "      <td>0.105065</td>\n",
       "      <td>0.364658</td>\n",
       "      <td>0.134567</td>\n",
       "      <td>0.186041</td>\n",
       "    </tr>\n",
       "    <tr>\n",
       "      <th>351</th>\n",
       "      <td>351</td>\n",
       "      <td>0.016</td>\n",
       "      <td>0.812</td>\n",
       "      <td>0.172</td>\n",
       "      <td>0.9989</td>\n",
       "      <td>Epson - ET-3830</td>\n",
       "      <td>Amazon</td>\n",
       "      <td>2021-12-06</td>\n",
       "      <td>C. M.</td>\n",
       "      <td>5</td>\n",
       "      <td>...</td>\n",
       "      <td>4.642857</td>\n",
       "      <td>293</td>\n",
       "      <td>6</td>\n",
       "      <td>Epson</td>\n",
       "      <td>buy cart also great allison come printer ive a...</td>\n",
       "      <td>0.138121</td>\n",
       "      <td>0.070234</td>\n",
       "      <td>0.426145</td>\n",
       "      <td>0.174012</td>\n",
       "      <td>0.191488</td>\n",
       "    </tr>\n",
       "    <tr>\n",
       "      <th>3496</th>\n",
       "      <td>3496</td>\n",
       "      <td>0.017</td>\n",
       "      <td>0.864</td>\n",
       "      <td>0.119</td>\n",
       "      <td>0.9984</td>\n",
       "      <td>Epson - XP-6100</td>\n",
       "      <td>Amazon</td>\n",
       "      <td>2019-09-22</td>\n",
       "      <td>Pat Walsh</td>\n",
       "      <td>5</td>\n",
       "      <td>...</td>\n",
       "      <td>3.500000</td>\n",
       "      <td>406</td>\n",
       "      <td>0</td>\n",
       "      <td>Epson</td>\n",
       "      <td>good bad prosrel straight forward setup follow...</td>\n",
       "      <td>0.190066</td>\n",
       "      <td>0.049160</td>\n",
       "      <td>0.355616</td>\n",
       "      <td>0.297338</td>\n",
       "      <td>0.107819</td>\n",
       "    </tr>\n",
       "    <tr>\n",
       "      <th>6323</th>\n",
       "      <td>6323</td>\n",
       "      <td>0.016</td>\n",
       "      <td>0.848</td>\n",
       "      <td>0.136</td>\n",
       "      <td>0.9984</td>\n",
       "      <td>HP Smart Tank 7602</td>\n",
       "      <td>Amazon</td>\n",
       "      <td>2022-11-21</td>\n",
       "      <td>Realm of Nova</td>\n",
       "      <td>5</td>\n",
       "      <td>...</td>\n",
       "      <td>5.428571</td>\n",
       "      <td>352</td>\n",
       "      <td>2</td>\n",
       "      <td>HP</td>\n",
       "      <td>extrem versatil realli enjoy use thought would...</td>\n",
       "      <td>0.186320</td>\n",
       "      <td>0.045831</td>\n",
       "      <td>0.468686</td>\n",
       "      <td>0.127305</td>\n",
       "      <td>0.171858</td>\n",
       "    </tr>\n",
       "  </tbody>\n",
       "</table>\n",
       "<p>5 rows × 36 columns</p>\n",
       "</div>"
      ],
      "text/plain": [
       "        ID    neg    neu    pos  compound        Review Model Retailer  \\\n",
       "4190  4190  0.019  0.864  0.117    0.9993     Epson - ET-3830   Amazon   \n",
       "7558  7558  0.046  0.770  0.184    0.9991     Epson - ET-4850   Amazon   \n",
       "351    351  0.016  0.812  0.172    0.9989     Epson - ET-3830   Amazon   \n",
       "3496  3496  0.017  0.864  0.119    0.9984     Epson - XP-6100   Amazon   \n",
       "6323  6323  0.016  0.848  0.136    0.9984  HP Smart Tank 7602   Amazon   \n",
       "\n",
       "     Review date    Review name  Review_rating  ... title_avg_word  \\\n",
       "4190  2021-12-06      Just Josh              5  ...       4.833333   \n",
       "7558  2022-07-15    JOE SWABODA              5  ...       7.000000   \n",
       "351   2021-12-06          C. M.              5  ...       4.642857   \n",
       "3496  2019-09-22      Pat Walsh              5  ...       3.500000   \n",
       "6323  2022-11-21  Realm of Nova              5  ...       5.428571   \n",
       "\n",
       "     content_stopwords  title_stopwords  Brand  \\\n",
       "4190               592                2  Epson   \n",
       "7558               336                0  Epson   \n",
       "351                293                6  Epson   \n",
       "3496               406                0  Epson   \n",
       "6323               352                2     HP   \n",
       "\n",
       "                                            Full review    Topic0    Topic1  \\\n",
       "4190  great high qualiti econom color scanner add ec...  0.134562  0.041783   \n",
       "7558  deliv purchas unit directli amazon impress per...  0.209669  0.105065   \n",
       "351   buy cart also great allison come printer ive a...  0.138121  0.070234   \n",
       "3496  good bad prosrel straight forward setup follow...  0.190066  0.049160   \n",
       "6323  extrem versatil realli enjoy use thought would...  0.186320  0.045831   \n",
       "\n",
       "        Topic2    Topic3    Topic4  \n",
       "4190  0.504710  0.188026  0.130919  \n",
       "7558  0.364658  0.134567  0.186041  \n",
       "351   0.426145  0.174012  0.191488  \n",
       "3496  0.355616  0.297338  0.107819  \n",
       "6323  0.468686  0.127305  0.171858  \n",
       "\n",
       "[5 rows x 36 columns]"
      ]
     },
     "execution_count": 10,
     "metadata": {},
     "output_type": "execute_result"
    }
   ],
   "source": [
    "vaders.query('Review_rating == 5').sort_values('compound', ascending=False).head(5)"
   ]
  },
  {
   "cell_type": "markdown",
   "id": "56dbd749",
   "metadata": {},
   "source": [
    "## Checking if the model works"
   ]
  },
  {
   "cell_type": "code",
   "execution_count": 11,
   "id": "809a544a",
   "metadata": {},
   "outputs": [
    {
     "data": {
      "text/plain": [
       "'Not only will this EcoTank printer save you a ton of money on ink, but it’s easy to setup and all of the features work extremely well.IN THE BOXIn the box you’ll find the printer itself (with lots of blue tape holding everything in place during shipping), a power cable, an instruction packet with a software CD that you won’t use, and 4 bottles of ink.DESIGNThe printer has a fairly standard and compact design. On the back are the ports for power, network, and USB.The lid of the printer opens to reveal the glass scanning surface for the scanner and copier functions.NOTE: This printer does not have an auto document feeder (ADF) even though the comparison chart shows that it does. With this printer you can only scan one sheet of paper at a time and then have to manually change sheets if you want to scan another page.The front of the printer has a color screen, with various buttons around it that you use to navigate through the screens, power the printer on and off, etc.Below the control panel are the extendable paper eject tray and the adjustable paper input tray.Being an EcoTank printer, the right side of the front features the ink reservoirs that allow you to see the actual amount of liquid ink remaining for each color. The black ink reservoir is larger than the others since you’ll likely use black ink more often than the other colors.SETUPSetting up this printer is very easy. I prefer printers like this that include a screen because they allow you to setup the printer without the need for any apps or software as you can join the printer to your wifi network straight from the screen (you can also use the printer with a wired network connection or via the USB port, but I think most people will be like me and use wifi only). You can do that with this model too, but the setup via your phone or tablet actually works great and is what I recommend that you use. When you plug the printer in for the first time you can choose to set it up right on the printer itself, or simply scan the QR code displayed on the screen to be taken to Epson’s app download page.Once you download the app your phone or tablet will connect to the printer via Bluetooth and walk you through the setup process using an easy-to-follow text message-like interface.Adding ink to the printer is one of the first steps. The Epson EcoTank system is one of the best advances in inkjet printing ever. To install the ink you simply lift up the front cover of the printer (where the top-mounted scanner is located), then flip up the smaller cover over the ink reservoirs. Epson has done an excellent job designing the ink filling process. Flip up the cover over each ink reservoir, unscrew the cap on a bottle, then place it upside down into the appropriate color reservoir. The bottles and reservoirs are designed so you can’t put the bottle in the wrong color reservoir, and the bottles do a great job of preventing ink from leaking out. The ink will stop flowing automatically once the ink level has reached the top line on the reservoir, so there’s no concern about ink overflowing.Once all 4 inks are filled the printer will take about 10 minutes to “charge” the ink. Essentially filling the print heads inside the printer with ink. This will cause the ink levels in the reservoirs to drop a bit. Once the charging cycle is complete you can then top off the reservoirs using any remaining ink in the bottles.After the ink is ready to go the next step is to run through the printer calibration process. This step is optional but recommended if you want the most precise prints. The printer will go through 4 stages of printing out test patterns, and then asking you which patterns look the best. You use the buttons on the front of the printer to indicate which pattern on each sheet of paper looks the best. This process is fairly tedious and you may want to have a magnifying glass (or your phone’s magnifying app) handy so you can tell the minute differences between the patterns and choose the best one.Now that the printer is all good to go the last step is to download and install the Epson software on your computer (if you have one), or if not you can just use the software that you already installed on your phone or tablet.IN USEThis printer works great. Printing is a pretty standard affair. You can print from your phone or tablet or via the standard print menu on your computer.Scanning works excellent as well. You can initiate scanning from your computer or mobile device, or you can start scanning right from the printer itself. If you scan from the printer you can automatically direct the scans to your computer or to a cloud service. The scanner has lots of options including a photo mode that will automatically create multiple image files from a single scan. Just place multiple photos on the scanner and it will make sure each photo is cropped properly and stored as a separate image file.Copying is as easy as you’d expect. Right from the front panel you can choose a number of copies, color or black and white, etc.It’s worth mentioning that there is one consumable item other than the ink. It’s not very well explained anywhere I could find but you should be aware of it. There is what Epson calls a “maintenance box” behind a door at the rear of the printer. This box is used to store the excess ink that is used when cleaning the nozzles and performing other maintenance tasks. Essentially this box will eventually get full of wasted ink and need to be replaced. The part is very inexpensive so it’s not a major concern but just something to know about for when your printer eventually tells you to replace it. You can view the remaining life of the maintenance box in the Epson app.PERFORMANCEThis printer produces great looking documents and prints quickly. Printer speed ratings are always pretty subjective and based on standards, so getting the advertised 15+ pages per minute might be a little tricky with regular documents, but you will still easily get 5+ pages per minute when printing black and white documents, which is fast enough for me.The printer also does a fantastic job of printing photos. Throw some glossy photo paper in it and you’ll be impressed at the quality of photo you can print (see my photos for an example). A full page photo with a lot of coverage and colors takes about 4 minutes to print on the highest quality settings.The scanner isn’t a speed demon but it’s no slouch either. For home and small office use you likely won’t ever complain about scanning or print speeds.SUMMARYIf you’re looking for a color inkjet printer that can do it all without costing you an arm and a leg on ink then this is the one. The EcoTank system and its significant ink cost savings is the big selling point here, but don’t let that overshadow that this is a great machine in other areas too. The printing and scanning modes both feature tons of options and deliver impressive results. The printer is easy to setup and the apps on both mobile devices and computers perform excellent with intuitive interfaces.The big thing to keep in mind here is that even though this printer has a higher upfront cost than many competitors you will end up saving much much more money over time due to the vastly reduced ink costs. Other companies are still using the old razor blade model where they basically give you the printer at cost because they are going to make money off of you on the ink over time. With these EcoTank models you are actually paying a fair price for the printer, in exchange for being able to pay a fair price for the ink too.'"
      ]
     },
     "execution_count": 11,
     "metadata": {},
     "output_type": "execute_result"
    }
   ],
   "source": [
    "# Positive sentiment (based on compound score) with 5-star review\n",
    "vaders.query('Review_rating == 5').sort_values('compound', ascending=False)['Original review'].values[0]"
   ]
  },
  {
   "cell_type": "code",
   "execution_count": 12,
   "id": "bbd1ebc5",
   "metadata": {},
   "outputs": [
    {
     "data": {
      "text/plain": [
       "'I am a long-time HP customer, and all my printers have been HPs.  My first printer, a black-and-white HP laser printer, lasted for many years.  It was followed by an HP DeskJet 940c color printer; this printer still works, but it is now difficult to find its cartridges (I only purchase HP cartridges, and the printer rejects out-of-date cartridges) and its function is limited to printing only.  My printers since then have been HP OfficeJet Pro All-in-One Printer/Scanner/Fax — HP 8610, HP 8630, and HP 8740 — each of which has unique problems.  The HP 8610 will scan to USB, but ruins the USB drive to which files and images are scanned.  The HP 8630 fails to recognize or acknowledge the presence of a USB drive but it will scan to PC’s using its wireless capabilities and it can print using both of its paper trays.  The HP 8740, the worst until now, fails to recognize or acknowledge the presence of USB drives, it will not scan to PCs unless the PC initiates the connection, it has frequent paper jams, and the second paper tray is useless as the unit will not acknowledge its presence.  As you might imagine, it is disappointing to spend money — at the time $399, $299, and $349 (after coupon and price-match), respectively — on these all-in-one printer/scanner/fax units and not be able to use all their stated features.That said, the HP OfficeJet Pro 9015e is no different — it has problems too.  The first problem I noticed while removing it from the box is the lower quality of the build of the device.  The quality of my HP 8610, HP 8630, and HP 8740 is far greater than that of the HP 9015e; it feels cheap in comparison to the HP 8610, HP 8630, and HP 8740.  The HP 9015e does not even have a real paper tray — the back of its “paper tray” is open:  there are two long plastic hooks and no distinct location for the back placement of the paper.  Real paper trays have a clear front and back location for the paper within the tray.  The front door of the HP 9015e, via which one accesses the cartridges, does not have the high quality feel of the front doors of the HP 8610, HP 8630, and HP 8740, and this door does not close as soundly (and is not flush against the body of the unit!) as that of the other three units.  The HP 9015e does not even have a power button with a solid feel as the HP 8610, HP 8630, and HP 8740.  The sounds of the working HP 9015e are not satisfying as those for the HP 8610, HP 8630, and HP 8740:  the HP 9015e sounds rickety and as if it is falling apart.  Every time I print something, I wonder if this will be the last page I can print — I have owned this printer for less than one month at the writing of this review and there was a two-week delay before I could set up the printer at my office:  I should not feel this way about a brand new printer.  The output “tray” for the HP 9015e  is a disappointment and it does not hold printed pages well; it certainly does not hold printed pages as securely as the HP 8610, HP 8630, or HP 8740.  So far, I have been able to print several pages as well as scan to PC, initiated via the PC, but I have not been able to test the unit to its full extent.Installation using the HP Smart App was TERRIBLE!  The connection options for the HP 9015e are wireless, ethernet, and USB:  all three should work, yet the HP Smart App refused to install the printer via USB connection.  After trying to connect the HP 9015e to my Windows 10 PC multiple times — too many times — using the HP Smart App, I downloaded the only other available software option to provide printer/scanner funtionality.  This software was also problematic as it directed me to wireless or ethernet connection, rather than USB connect to PC.  However, after multiple attempts, the USB connection between the HP 9015e and my PC was established — and accepted by the software; one should not have to endure inquires from software regarding one’s choice of connection type — the owner of the device chooses the connection type, not HP via its software/app.Since I need a printer/scanner/fax at my office, I decided to keep the HP 9015e, rather than to return it.  However, I do have concerns about how long it will function and I am still in the process of determining which of its stated functions operate properly.  I do not appreciate HP trying to dictate how I connect and use the printer for which I paid:  I chose the USB connection and I chose to disable wireless printing since the printer is for my use (I paid for the printer and I pay for the cartridges), not for the use of others (who may wish to try to establish a wireless connection) at my place of work.  It is worth mentioning that the HP+ option did not appear when I installed the HP 9015e using the software rather than the HP Smart App; this is not good business, HP, as everyone purchasing this unit should be offered the same “bonus” options.Based on my experience with a firmware update for my HP 8630, I would recommend that you disable HP updates.  After the last firmware update, my HP 8630 would not recognize the perfectly functional printhead installed in the printer; I had used my printer without issues prior to this firmware update.  After that update the HP 8630 displayed a message that the printhead was now missing or damaged!  To make a long story short, I was forced to purchase a new printhead for $179 in order to continue to use this printer!  I view this as unacceptable and bad business on the part of HP.  I have no intention of going through that for the HP 9015e; I plan to turn off HP updates so that they cannot be installed via my PC.Due to the various problems that I have had with the HP 8610, HP 8630, and HP 8740 (especially its paper jams and the non-functional second paper tray), the HP 9015e may be my last HP printer because its build-quality does not compare favorably to any of the three.  What happened to the quality of my original HP laserjet and my HP 940c????  I have to wonder about the quality of future HP printers or HP all-in-one units based on the cheap feel of the HP 9015e.  I am disappointed, and I would not recommend purchasing the HP 9015e.'"
      ]
     },
     "execution_count": 12,
     "metadata": {},
     "output_type": "execute_result"
    }
   ],
   "source": [
    "# Negative sentiment (based on compound score) with 1-star review\n",
    "vaders.query('Review_rating == 1').sort_values('compound', ascending=True)['Original review'].values[0]"
   ]
  },
  {
   "cell_type": "markdown",
   "id": "18c1f484",
   "metadata": {},
   "source": [
    "## Checking if the model produced any inaccurate results"
   ]
  },
  {
   "cell_type": "code",
   "execution_count": 13,
   "id": "814090d6",
   "metadata": {},
   "outputs": [
    {
     "data": {
      "text/plain": [
       "'my last printer was a Dell color laser printer but i did have an HP inkjet before that and that one was excellent also.  this thing is cheap and plastic and feels like it will break if you blow on it.  i researched this printer, it get great reviews...  i have to guess if your last printer was a $50 printer, this one might seem better to you.  But i had Dell color laser printer.  okay, it was a $500 printer maybe ten years ago but you paying for the technology.  this is just an inkjet, it should at least feel like a printer.  it feels like a toy.  i mean i am flabbergasted.  how did this get such good reviews.  in my opinion, build quality is ZERO (0).  and as for easy of use, i guess i buy my computers the way i buy my printers.  i have a fast well equipped computer and it does not seem to like this little thing!  i don\\'t know.  if i spent $500 twelve years ago and i was very happy with my printer, do i need to spend $2000 today.  i can\\'t get over how bad this is.  the touch screen does not have a lot of feel to it but if you touch it harder, you get a response but printer falls apart!  And its been four hours now and I have yet to get one printed page.  Printer is an endless loop of \"open operation panel and pull out print tray\"  but its been pulled out for four hours.... what a piece of junk!  And to be honest, everyone sells this printer at the exact same price so your decision to buy a printer should be based on how much of a hassle it is to buy and return.  Best Buy is great/  bring the item back to a local store and get a refund immediately.  Amazon just changed its return policy and I will not have a refund until mid April but the shipper picked it up mid-march.  This is a very poor printer and if there are issues with it, you need to be purchasing from a reasonable seller.'"
      ]
     },
     "execution_count": 13,
     "metadata": {},
     "output_type": "execute_result"
    }
   ],
   "source": [
    "# Positive sentiment (based on compound score) but with 1-star review\n",
    "vaders.query('Review_rating == 1').sort_values('compound', ascending=False)['Original review'].values[2]"
   ]
  },
  {
   "cell_type": "markdown",
   "id": "99cbdb7b",
   "metadata": {},
   "source": [
    "From the review above, it seems that there are positive sentiments but for a previous model that the reviewer has bought. For the exact item that the reviewer actually bought, it is definitely a negative sentiment. \n",
    "This shows that the Vader model might not be as effective in interpreting the sentiment if the review consists of multiple sentences with different sentiments."
   ]
  },
  {
   "cell_type": "code",
   "execution_count": 14,
   "id": "5c3e8c08",
   "metadata": {},
   "outputs": [
    {
     "data": {
      "text/plain": [
       "\"I bought this printer to replace an aging Brother printer that was on it's last legs. A lot of review had people complaining about difficulty setting up the Wi-Fi, cables missing, quality of prints are terrible, etc. I've gotten to a point that I attribute most of the negative reviews to user error or an inability to read simple instructions and guides. Everything listed was included, nothing was missing. It's a wireless printer setup to be used wirelessly. If you need a printer to be wireless and wired, you can either find one specific to that or pay extra for the cable. This isn't something new or unusual, as most companies don't include unnecessary extras in order to save money. You'll see a lot of negative and low reviews due this this.Setup was simple. Plugged it in, removed all the tape, connected it to my home Wi-Fi and installed the ink. It calibrated itself and printed a test print. A warning message popped up on the screen. I was able to read it clearly and clear the issue. At the same time I was also able to easily setup the companion apps (not a necessity) and send a test print from my phone, as well as check information about the status of the printer. I was able to print a document from my work Wi-Fi to my printer from the app.As I said earlier, a lot of low star and negative revies come from people that have no idea what they are doing and expect everything to work automatically out of the box with little input from them. They take this as a failure of the product and not their own inability to perform basic guided tasks.\""
      ]
     },
     "execution_count": 14,
     "metadata": {},
     "output_type": "execute_result"
    }
   ],
   "source": [
    "# Negative sentiment (based on compound score) but with 5-star review\n",
    "vaders.query('Review_rating == 5').sort_values('compound', ascending=True)['Original review'].values[0]"
   ]
  },
  {
   "cell_type": "markdown",
   "id": "fc79ba38",
   "metadata": {},
   "source": [
    "From the review above, it starteed off describing what most people's opinions were about the product which was mostly negative. However, the reviewer did not find it the same way, thus rating it as 5 stars. \n",
    "Similar to the misclassified positive review above, it could be a limitation of the model if the review gets too long."
   ]
  },
  {
   "cell_type": "markdown",
   "id": "b9d4cb67",
   "metadata": {},
   "source": [
    "## Checking the accuracy of the Vader model vs review ratings, assuming review ratings are 100% accurate"
   ]
  },
  {
   "cell_type": "code",
   "execution_count": 15,
   "id": "ec2a445f",
   "metadata": {},
   "outputs": [
    {
     "name": "stdout",
     "output_type": "stream",
     "text": [
      "Positive Sentiment Accuracy: 0.6216875304829098\n",
      "Negative Sentiment Accuracy: 0.6848596978107663\n",
      "Neutral Sentiment Accuracy: 0.17668711656542738\n"
     ]
    }
   ],
   "source": [
    "# Creating a new column that categorizes the sentiments into positive, negative and neutral\n",
    "vaders['Sentiment'] = vaders['compound'].apply(lambda x: 'Positive' if x > 0.05 else ('Negative' if x < -0.05 else 'Neutral'))\n",
    "\n",
    "# 1. Create masks for each sentiment category\n",
    "positive_mask_vader = vaders['Sentiment'] == 'Positive'\n",
    "negative_mask_vader = vaders['Sentiment'] == 'Negative'\n",
    "neutral_mask_vader = vaders['Sentiment'] == 'Neutral'\n",
    "\n",
    "# 2. Create masks for 'Review_rating' categories\n",
    "negative_rating_mask_vader = vaders['Review_rating'] <= 2\n",
    "neutral_rating_mask_vader = vaders['Review_rating'] == 3\n",
    "positive_rating_mask_vader = vaders['Review_rating'] >= 4\n",
    "\n",
    "# 3. Calculate accuracy for each sentiment category\n",
    "positive_accuracy_vader = (vaders.loc[positive_mask_vader & positive_rating_mask_vader].shape[0] + 1e-9) / (vaders.loc[positive_mask_vader].shape[0] + 1e-9)\n",
    "negative_accuracy_vader = (vaders.loc[negative_mask_vader & negative_rating_mask_vader].shape[0] + 1e-9) / (vaders.loc[negative_mask_vader].shape[0] + 1e-9)\n",
    "neutral_accuracy_vader = (vaders.loc[neutral_mask_vader & neutral_rating_mask_vader].shape[0] + 1e-9) / (vaders.loc[neutral_mask_vader].shape[0] + 1e-9)\n",
    "\n",
    "# Print the accuracies\n",
    "print(\"Positive Sentiment Accuracy:\", positive_accuracy_vader)\n",
    "print(\"Negative Sentiment Accuracy:\", negative_accuracy_vader)\n",
    "print(\"Neutral Sentiment Accuracy:\", neutral_accuracy_vader)"
   ]
  },
  {
   "cell_type": "markdown",
   "id": "501b1bc0",
   "metadata": {},
   "source": [
    "## Running Sentiment Analysis using TextBlob to compare the results"
   ]
  },
  {
   "cell_type": "code",
   "execution_count": 16,
   "id": "ba7fd737",
   "metadata": {},
   "outputs": [
    {
     "data": {
      "text/html": [
       "<div>\n",
       "<style scoped>\n",
       "    .dataframe tbody tr th:only-of-type {\n",
       "        vertical-align: middle;\n",
       "    }\n",
       "\n",
       "    .dataframe tbody tr th {\n",
       "        vertical-align: top;\n",
       "    }\n",
       "\n",
       "    .dataframe thead th {\n",
       "        text-align: right;\n",
       "    }\n",
       "</style>\n",
       "<table border=\"1\" class=\"dataframe\">\n",
       "  <thead>\n",
       "    <tr style=\"text-align: right;\">\n",
       "      <th></th>\n",
       "      <th>Review Model</th>\n",
       "      <th>Retailer</th>\n",
       "      <th>Review date</th>\n",
       "      <th>Review name</th>\n",
       "      <th>Review rating</th>\n",
       "      <th>Review title</th>\n",
       "      <th>Review Content</th>\n",
       "      <th>Verified Purchase or not</th>\n",
       "      <th>People_find_helpful</th>\n",
       "      <th>vine or not</th>\n",
       "      <th>...</th>\n",
       "      <th>Brand</th>\n",
       "      <th>Full review</th>\n",
       "      <th>ID</th>\n",
       "      <th>Topic0</th>\n",
       "      <th>Topic1</th>\n",
       "      <th>Topic2</th>\n",
       "      <th>Topic3</th>\n",
       "      <th>Topic4</th>\n",
       "      <th>Sentiment Polarity</th>\n",
       "      <th>Sentiment Subjectivity</th>\n",
       "    </tr>\n",
       "  </thead>\n",
       "  <tbody>\n",
       "    <tr>\n",
       "      <th>0</th>\n",
       "      <td>Canon Pixma TS6420a</td>\n",
       "      <td>Amazon</td>\n",
       "      <td>2023-08-10</td>\n",
       "      <td>Ernest Birkholz</td>\n",
       "      <td>5</td>\n",
       "      <td>work great</td>\n",
       "      <td>easi instal work great</td>\n",
       "      <td>True</td>\n",
       "      <td>0</td>\n",
       "      <td>False</td>\n",
       "      <td>...</td>\n",
       "      <td>Canon</td>\n",
       "      <td>work great easi instal work great</td>\n",
       "      <td>0</td>\n",
       "      <td>0.192308</td>\n",
       "      <td>0.192344</td>\n",
       "      <td>0.192308</td>\n",
       "      <td>0.230732</td>\n",
       "      <td>0.192308</td>\n",
       "      <td>0.616667</td>\n",
       "      <td>0.791667</td>\n",
       "    </tr>\n",
       "    <tr>\n",
       "      <th>1</th>\n",
       "      <td>HP OfficeJet Pro 9015e</td>\n",
       "      <td>Amazon</td>\n",
       "      <td>2022-06-04</td>\n",
       "      <td>mattey</td>\n",
       "      <td>3</td>\n",
       "      <td>spunki mid size</td>\n",
       "      <td>slower speed im use old model 8600 new 9015e s...</td>\n",
       "      <td>True</td>\n",
       "      <td>0</td>\n",
       "      <td>False</td>\n",
       "      <td>...</td>\n",
       "      <td>HP</td>\n",
       "      <td>spunki mid size slower speed im use old model ...</td>\n",
       "      <td>1</td>\n",
       "      <td>0.219016</td>\n",
       "      <td>0.111844</td>\n",
       "      <td>0.293459</td>\n",
       "      <td>0.163706</td>\n",
       "      <td>0.211975</td>\n",
       "      <td>0.100253</td>\n",
       "      <td>0.512879</td>\n",
       "    </tr>\n",
       "    <tr>\n",
       "      <th>2</th>\n",
       "      <td>Canon PIXMA MG3620</td>\n",
       "      <td>Amazon</td>\n",
       "      <td>2023-03-15</td>\n",
       "      <td>Maria D</td>\n",
       "      <td>4</td>\n",
       "      <td>NaN</td>\n",
       "      <td>i</td>\n",
       "      <td>True</td>\n",
       "      <td>0</td>\n",
       "      <td>False</td>\n",
       "      <td>...</td>\n",
       "      <td>Canon</td>\n",
       "      <td>i</td>\n",
       "      <td>2</td>\n",
       "      <td>0.200007</td>\n",
       "      <td>0.199993</td>\n",
       "      <td>0.200005</td>\n",
       "      <td>0.200003</td>\n",
       "      <td>0.199992</td>\n",
       "      <td>0.000000</td>\n",
       "      <td>0.000000</td>\n",
       "    </tr>\n",
       "    <tr>\n",
       "      <th>3</th>\n",
       "      <td>Epson - ET-3830</td>\n",
       "      <td>Amazon</td>\n",
       "      <td>2022-11-17</td>\n",
       "      <td>Ryan H</td>\n",
       "      <td>5</td>\n",
       "      <td>shag know he talk</td>\n",
       "      <td>yup slam upgrad paid littl front equival throw...</td>\n",
       "      <td>True</td>\n",
       "      <td>12</td>\n",
       "      <td>False</td>\n",
       "      <td>...</td>\n",
       "      <td>Epson</td>\n",
       "      <td>shag know he talk yup slam upgrad paid littl f...</td>\n",
       "      <td>3</td>\n",
       "      <td>0.168985</td>\n",
       "      <td>0.165481</td>\n",
       "      <td>0.239302</td>\n",
       "      <td>0.162820</td>\n",
       "      <td>0.263412</td>\n",
       "      <td>0.288426</td>\n",
       "      <td>0.717593</td>\n",
       "    </tr>\n",
       "    <tr>\n",
       "      <th>4</th>\n",
       "      <td>HP ENVY 6055e</td>\n",
       "      <td>Amazon</td>\n",
       "      <td>2022-04-09</td>\n",
       "      <td>Sam</td>\n",
       "      <td>3</td>\n",
       "      <td>user friendli</td>\n",
       "      <td>would think someth simpl reconnect wifi would ...</td>\n",
       "      <td>True</td>\n",
       "      <td>0</td>\n",
       "      <td>False</td>\n",
       "      <td>...</td>\n",
       "      <td>HP</td>\n",
       "      <td>user friendli would think someth simpl reconne...</td>\n",
       "      <td>4</td>\n",
       "      <td>0.261938</td>\n",
       "      <td>0.203476</td>\n",
       "      <td>0.118563</td>\n",
       "      <td>0.275790</td>\n",
       "      <td>0.140233</td>\n",
       "      <td>0.024123</td>\n",
       "      <td>0.446429</td>\n",
       "    </tr>\n",
       "  </tbody>\n",
       "</table>\n",
       "<p>5 rows × 34 columns</p>\n",
       "</div>"
      ],
      "text/plain": [
       "             Review Model Retailer Review date      Review name  \\\n",
       "0     Canon Pixma TS6420a   Amazon  2023-08-10  Ernest Birkholz   \n",
       "1  HP OfficeJet Pro 9015e   Amazon  2022-06-04           mattey   \n",
       "2      Canon PIXMA MG3620   Amazon  2023-03-15          Maria D   \n",
       "3         Epson - ET-3830   Amazon  2022-11-17           Ryan H   \n",
       "4           HP ENVY 6055e   Amazon  2022-04-09              Sam   \n",
       "\n",
       "   Review rating       Review title  \\\n",
       "0              5         work great   \n",
       "1              3    spunki mid size   \n",
       "2              4                NaN   \n",
       "3              5  shag know he talk   \n",
       "4              3      user friendli   \n",
       "\n",
       "                                      Review Content  \\\n",
       "0                             easi instal work great   \n",
       "1  slower speed im use old model 8600 new 9015e s...   \n",
       "2                                                  i   \n",
       "3  yup slam upgrad paid littl front equival throw...   \n",
       "4  would think someth simpl reconnect wifi would ...   \n",
       "\n",
       "   Verified Purchase or not  People_find_helpful  vine or not  ...  Brand  \\\n",
       "0                      True                    0        False  ...  Canon   \n",
       "1                      True                    0        False  ...     HP   \n",
       "2                      True                    0        False  ...  Canon   \n",
       "3                      True                   12        False  ...  Epson   \n",
       "4                      True                    0        False  ...     HP   \n",
       "\n",
       "                                         Full review  ID    Topic0    Topic1  \\\n",
       "0                  work great easi instal work great   0  0.192308  0.192344   \n",
       "1  spunki mid size slower speed im use old model ...   1  0.219016  0.111844   \n",
       "2                                                  i   2  0.200007  0.199993   \n",
       "3  shag know he talk yup slam upgrad paid littl f...   3  0.168985  0.165481   \n",
       "4  user friendli would think someth simpl reconne...   4  0.261938  0.203476   \n",
       "\n",
       "     Topic2    Topic3    Topic4  Sentiment Polarity  Sentiment Subjectivity  \n",
       "0  0.192308  0.230732  0.192308            0.616667                0.791667  \n",
       "1  0.293459  0.163706  0.211975            0.100253                0.512879  \n",
       "2  0.200005  0.200003  0.199992            0.000000                0.000000  \n",
       "3  0.239302  0.162820  0.263412            0.288426                0.717593  \n",
       "4  0.118563  0.275790  0.140233            0.024123                0.446429  \n",
       "\n",
       "[5 rows x 34 columns]"
      ]
     },
     "execution_count": 16,
     "metadata": {},
     "output_type": "execute_result"
    }
   ],
   "source": [
    "from textblob import TextBlob\n",
    "\n",
    "# Function to calculate sentiment scores using TextBlob\n",
    "def analyze_sentiment(text):\n",
    "    analysis = TextBlob(text)\n",
    "    return analysis.sentiment.polarity, analysis.sentiment.subjectivity\n",
    "\n",
    "# Cloning the dataframe for unigram analysis\n",
    "textblob_df = df_SA.copy()\n",
    "\n",
    "# Converting Review Content to string type in order to run TextBlob Sentiment Analysis\n",
    "textblob_df['Original review'] = textblob_df['Original review'].astype(str)\n",
    "\n",
    "# Apply sentiment analysis function to the 'Original review' column\n",
    "textblob_df[['Sentiment Polarity', 'Sentiment Subjectivity']] = textblob_df['Original review'].apply(analyze_sentiment).apply(pd.Series)\n",
    "\n",
    "# Display the DataFrame with sentiment scores\n",
    "textblob_df.head()"
   ]
  },
  {
   "cell_type": "markdown",
   "id": "813a44af",
   "metadata": {},
   "source": [
    "## Reviewing some examples to check if the model works"
   ]
  },
  {
   "cell_type": "code",
   "execution_count": 17,
   "id": "3c906e69",
   "metadata": {},
   "outputs": [
    {
     "data": {
      "text/plain": [
       "135                                      Works perfectly\n",
       "149                                         Works great!\n",
       "150                                         Works great!\n",
       "151                                         Works great!\n",
       "194    Works absolutely great! Until it doesn't! It l...\n",
       "Name: Original review, dtype: object"
      ]
     },
     "execution_count": 17,
     "metadata": {},
     "output_type": "execute_result"
    }
   ],
   "source": [
    "textblob_df[textblob_df['Sentiment Polarity'] == 1]['Original review'].head(5)"
   ]
  },
  {
   "cell_type": "code",
   "execution_count": 18,
   "id": "d286eb2f",
   "metadata": {},
   "outputs": [
    {
     "data": {
      "text/plain": [
       "82    Worst printer I've ever bought: won't print, d...\n",
       "85                        Worst printer I’ve ever owned\n",
       "94    worst printer ever.  don't even want to give i...\n",
       "95    Worst printer ever! OFFLINE all the time, the ...\n",
       "98                                   Worst printer ever\n",
       "Name: Original review, dtype: object"
      ]
     },
     "execution_count": 18,
     "metadata": {},
     "output_type": "execute_result"
    }
   ],
   "source": [
    "textblob_df[textblob_df['Sentiment Polarity'] == -1]['Original review'].head(5)"
   ]
  },
  {
   "cell_type": "code",
   "execution_count": 19,
   "id": "c4798d34",
   "metadata": {},
   "outputs": [],
   "source": [
    "# Creating a new 'Sentiment' column based on 'Sentiment Polarity'\n",
    "textblob_df['Sentiment'] = textblob_df['Sentiment Polarity'].apply(lambda x: 'Positive' if x > 0 else ('Negative' if x < 0 else 'Neutral'))"
   ]
  },
  {
   "cell_type": "code",
   "execution_count": 20,
   "id": "30338d63",
   "metadata": {},
   "outputs": [
    {
     "name": "stdout",
     "output_type": "stream",
     "text": [
      "Positive Sentiment Accuracy: 0.5713669685209758\n",
      "Negative Sentiment Accuracy: 0.7256817256818373\n",
      "Neutral Sentiment Accuracy: 0.15597484276835727\n"
     ]
    }
   ],
   "source": [
    "# Comparing accuracy of the Textblob unigram model with the review ratings, assuming review ratings are 100% accurate\n",
    "\n",
    "# Creating masks for each sentiment category\n",
    "positive_mask_unigram = textblob_df['Sentiment'] == 'Positive'\n",
    "negative_mask_unigram = textblob_df['Sentiment'] == 'Negative'\n",
    "neutral_mask_unigram = textblob_df['Sentiment'] == 'Neutral'\n",
    "\n",
    "# Creating masks for 'Review_rating' categories\n",
    "negative_rating_mask_unigram = textblob_df['Review rating'] <= 2\n",
    "neutral_rating_mask_unigram = textblob_df['Review rating'] == 3\n",
    "positive_rating_mask_unigram = textblob_df['Review rating'] >= 4\n",
    "\n",
    "# Calculating accuracy for each sentiment category\n",
    "positive_accuracy_unigram = (textblob_df.loc[positive_mask_unigram & positive_rating_mask_unigram].shape[0] + 1e-9) / (textblob_df.loc[positive_mask_unigram].shape[0] + 1e-9)\n",
    "negative_accuracy_unigram = (textblob_df.loc[negative_mask_unigram & negative_rating_mask_unigram].shape[0] + 1e-9) / (textblob_df.loc[negative_mask_unigram].shape[0] + 1e-9)\n",
    "neutral_accuracy_unigram = (textblob_df.loc[neutral_mask_unigram & neutral_rating_mask_unigram].shape[0] + 1e-9) / (textblob_df.loc[neutral_mask_unigram].shape[0] + 1e-9)\n",
    "\n",
    "# Printing the accuracies\n",
    "print(\"Positive Sentiment Accuracy:\", positive_accuracy_unigram)\n",
    "print(\"Negative Sentiment Accuracy:\", negative_accuracy_unigram)\n",
    "print(\"Neutral Sentiment Accuracy:\", neutral_accuracy_unigram)"
   ]
  },
  {
   "cell_type": "markdown",
   "id": "d010a635",
   "metadata": {},
   "source": [
    "## Expanding the Textblob model using bigram and trigram"
   ]
  },
  {
   "cell_type": "code",
   "execution_count": 21,
   "id": "2c826ad6",
   "metadata": {},
   "outputs": [
    {
     "data": {
      "text/html": [
       "<div>\n",
       "<style scoped>\n",
       "    .dataframe tbody tr th:only-of-type {\n",
       "        vertical-align: middle;\n",
       "    }\n",
       "\n",
       "    .dataframe tbody tr th {\n",
       "        vertical-align: top;\n",
       "    }\n",
       "\n",
       "    .dataframe thead th {\n",
       "        text-align: right;\n",
       "    }\n",
       "</style>\n",
       "<table border=\"1\" class=\"dataframe\">\n",
       "  <thead>\n",
       "    <tr style=\"text-align: right;\">\n",
       "      <th></th>\n",
       "      <th>Review Model</th>\n",
       "      <th>Retailer</th>\n",
       "      <th>Review date</th>\n",
       "      <th>Review name</th>\n",
       "      <th>Review rating</th>\n",
       "      <th>Review title</th>\n",
       "      <th>Review Content</th>\n",
       "      <th>Verified Purchase or not</th>\n",
       "      <th>People_find_helpful</th>\n",
       "      <th>vine or not</th>\n",
       "      <th>...</th>\n",
       "      <th>title_stopwords</th>\n",
       "      <th>Brand</th>\n",
       "      <th>Full review</th>\n",
       "      <th>ID</th>\n",
       "      <th>Topic0</th>\n",
       "      <th>Topic1</th>\n",
       "      <th>Topic2</th>\n",
       "      <th>Topic3</th>\n",
       "      <th>Topic4</th>\n",
       "      <th>Bigram Sentiment Polarity</th>\n",
       "    </tr>\n",
       "  </thead>\n",
       "  <tbody>\n",
       "    <tr>\n",
       "      <th>0</th>\n",
       "      <td>Canon Pixma TS6420a</td>\n",
       "      <td>Amazon</td>\n",
       "      <td>2023-08-10</td>\n",
       "      <td>Ernest Birkholz</td>\n",
       "      <td>5</td>\n",
       "      <td>work great</td>\n",
       "      <td>easi instal work great</td>\n",
       "      <td>True</td>\n",
       "      <td>0</td>\n",
       "      <td>False</td>\n",
       "      <td>...</td>\n",
       "      <td>0</td>\n",
       "      <td>Canon</td>\n",
       "      <td>work great easi instal work great</td>\n",
       "      <td>0</td>\n",
       "      <td>0.192308</td>\n",
       "      <td>0.192344</td>\n",
       "      <td>0.192308</td>\n",
       "      <td>0.230732</td>\n",
       "      <td>0.192308</td>\n",
       "      <td>0.238095</td>\n",
       "    </tr>\n",
       "    <tr>\n",
       "      <th>1</th>\n",
       "      <td>HP OfficeJet Pro 9015e</td>\n",
       "      <td>Amazon</td>\n",
       "      <td>2022-06-04</td>\n",
       "      <td>mattey</td>\n",
       "      <td>3</td>\n",
       "      <td>spunki mid size</td>\n",
       "      <td>slower speed im use old model 8600 new 9015e s...</td>\n",
       "      <td>True</td>\n",
       "      <td>0</td>\n",
       "      <td>False</td>\n",
       "      <td>...</td>\n",
       "      <td>0</td>\n",
       "      <td>HP</td>\n",
       "      <td>spunki mid size slower speed im use old model ...</td>\n",
       "      <td>1</td>\n",
       "      <td>0.219016</td>\n",
       "      <td>0.111844</td>\n",
       "      <td>0.293459</td>\n",
       "      <td>0.163706</td>\n",
       "      <td>0.211975</td>\n",
       "      <td>0.015890</td>\n",
       "    </tr>\n",
       "    <tr>\n",
       "      <th>2</th>\n",
       "      <td>Canon PIXMA MG3620</td>\n",
       "      <td>Amazon</td>\n",
       "      <td>2023-03-15</td>\n",
       "      <td>Maria D</td>\n",
       "      <td>4</td>\n",
       "      <td>NaN</td>\n",
       "      <td>i</td>\n",
       "      <td>True</td>\n",
       "      <td>0</td>\n",
       "      <td>False</td>\n",
       "      <td>...</td>\n",
       "      <td>0</td>\n",
       "      <td>Canon</td>\n",
       "      <td>i</td>\n",
       "      <td>2</td>\n",
       "      <td>0.200007</td>\n",
       "      <td>0.199993</td>\n",
       "      <td>0.200005</td>\n",
       "      <td>0.200003</td>\n",
       "      <td>0.199992</td>\n",
       "      <td>0.000000</td>\n",
       "    </tr>\n",
       "    <tr>\n",
       "      <th>3</th>\n",
       "      <td>Epson - ET-3830</td>\n",
       "      <td>Amazon</td>\n",
       "      <td>2022-11-17</td>\n",
       "      <td>Ryan H</td>\n",
       "      <td>5</td>\n",
       "      <td>shag know he talk</td>\n",
       "      <td>yup slam upgrad paid littl front equival throw...</td>\n",
       "      <td>True</td>\n",
       "      <td>12</td>\n",
       "      <td>False</td>\n",
       "      <td>...</td>\n",
       "      <td>2</td>\n",
       "      <td>Epson</td>\n",
       "      <td>shag know he talk yup slam upgrad paid littl f...</td>\n",
       "      <td>3</td>\n",
       "      <td>0.168985</td>\n",
       "      <td>0.165481</td>\n",
       "      <td>0.239302</td>\n",
       "      <td>0.162820</td>\n",
       "      <td>0.263412</td>\n",
       "      <td>0.052686</td>\n",
       "    </tr>\n",
       "    <tr>\n",
       "      <th>4</th>\n",
       "      <td>HP ENVY 6055e</td>\n",
       "      <td>Amazon</td>\n",
       "      <td>2022-04-09</td>\n",
       "      <td>Sam</td>\n",
       "      <td>3</td>\n",
       "      <td>user friendli</td>\n",
       "      <td>would think someth simpl reconnect wifi would ...</td>\n",
       "      <td>True</td>\n",
       "      <td>0</td>\n",
       "      <td>False</td>\n",
       "      <td>...</td>\n",
       "      <td>0</td>\n",
       "      <td>HP</td>\n",
       "      <td>user friendli would think someth simpl reconne...</td>\n",
       "      <td>4</td>\n",
       "      <td>0.261938</td>\n",
       "      <td>0.203476</td>\n",
       "      <td>0.118563</td>\n",
       "      <td>0.275790</td>\n",
       "      <td>0.140233</td>\n",
       "      <td>0.006997</td>\n",
       "    </tr>\n",
       "  </tbody>\n",
       "</table>\n",
       "<p>5 rows × 33 columns</p>\n",
       "</div>"
      ],
      "text/plain": [
       "             Review Model Retailer Review date      Review name  \\\n",
       "0     Canon Pixma TS6420a   Amazon  2023-08-10  Ernest Birkholz   \n",
       "1  HP OfficeJet Pro 9015e   Amazon  2022-06-04           mattey   \n",
       "2      Canon PIXMA MG3620   Amazon  2023-03-15          Maria D   \n",
       "3         Epson - ET-3830   Amazon  2022-11-17           Ryan H   \n",
       "4           HP ENVY 6055e   Amazon  2022-04-09              Sam   \n",
       "\n",
       "   Review rating       Review title  \\\n",
       "0              5         work great   \n",
       "1              3    spunki mid size   \n",
       "2              4                NaN   \n",
       "3              5  shag know he talk   \n",
       "4              3      user friendli   \n",
       "\n",
       "                                      Review Content  \\\n",
       "0                             easi instal work great   \n",
       "1  slower speed im use old model 8600 new 9015e s...   \n",
       "2                                                  i   \n",
       "3  yup slam upgrad paid littl front equival throw...   \n",
       "4  would think someth simpl reconnect wifi would ...   \n",
       "\n",
       "   Verified Purchase or not  People_find_helpful  vine or not  ...  \\\n",
       "0                      True                    0        False  ...   \n",
       "1                      True                    0        False  ...   \n",
       "2                      True                    0        False  ...   \n",
       "3                      True                   12        False  ...   \n",
       "4                      True                    0        False  ...   \n",
       "\n",
       "  title_stopwords  Brand                                        Full review  \\\n",
       "0               0  Canon                  work great easi instal work great   \n",
       "1               0     HP  spunki mid size slower speed im use old model ...   \n",
       "2               0  Canon                                                  i   \n",
       "3               2  Epson  shag know he talk yup slam upgrad paid littl f...   \n",
       "4               0     HP  user friendli would think someth simpl reconne...   \n",
       "\n",
       "   ID    Topic0    Topic1    Topic2    Topic3    Topic4  \\\n",
       "0   0  0.192308  0.192344  0.192308  0.230732  0.192308   \n",
       "1   1  0.219016  0.111844  0.293459  0.163706  0.211975   \n",
       "2   2  0.200007  0.199993  0.200005  0.200003  0.199992   \n",
       "3   3  0.168985  0.165481  0.239302  0.162820  0.263412   \n",
       "4   4  0.261938  0.203476  0.118563  0.275790  0.140233   \n",
       "\n",
       "   Bigram Sentiment Polarity  \n",
       "0                   0.238095  \n",
       "1                   0.015890  \n",
       "2                   0.000000  \n",
       "3                   0.052686  \n",
       "4                   0.006997  \n",
       "\n",
       "[5 rows x 33 columns]"
      ]
     },
     "execution_count": 21,
     "metadata": {},
     "output_type": "execute_result"
    }
   ],
   "source": [
    "# Using bigram for TextBlob\n",
    "\n",
    "# Function to calculate bigram sentiment scores using TextBlob\n",
    "def analyze_bigram_sentiment(text):\n",
    "    bigrams = list(zip(text.split()[:-1], text.split()[1:]))  # Extract bigrams\n",
    "    bigram_polarities = []\n",
    "    \n",
    "    for bigram in bigrams:\n",
    "        analysis = TextBlob(' '.join(bigram))\n",
    "        bigram_polarity = analysis.sentiment.polarity\n",
    "        \n",
    "        # Normalize the bigram polarity to the range [-1, 1]\n",
    "        normalized_bigram_polarity = max(-1, min(1, bigram_polarity))\n",
    "        \n",
    "        bigram_polarities.append(normalized_bigram_polarity)\n",
    "    \n",
    "    # Calculate the average bigram polarity\n",
    "    if bigram_polarities:\n",
    "        average_bigram_polarity = sum(bigram_polarities) / len(bigram_polarities)\n",
    "    else:\n",
    "        average_bigram_polarity = 0.0  # Handle case with no bigrams\n",
    "    \n",
    "    return average_bigram_polarity\n",
    "\n",
    "# Cloning the dataframe for bigram analysis\n",
    "textblob_df_bi = df_SA.copy()\n",
    "\n",
    "# Converting Review Content to string type in order to run TextBlob Sentiment Analysis\n",
    "textblob_df_bi['Original review'] = textblob_df_bi['Original review'].astype(str)\n",
    "\n",
    "# Applying bigram sentiment analysis function to the 'Original review' column\n",
    "textblob_df_bi['Bigram Sentiment Polarity'] = textblob_df_bi['Original review'].apply(analyze_bigram_sentiment)\n",
    "\n",
    "# Displaying the DataFrame with bigram sentiment scores\n",
    "textblob_df_bi.head()"
   ]
  },
  {
   "cell_type": "markdown",
   "id": "6dc773b9",
   "metadata": {},
   "source": [
    "## Reviewing some examples to check if the model works"
   ]
  },
  {
   "cell_type": "code",
   "execution_count": 22,
   "id": "530a8eed",
   "metadata": {
    "scrolled": false
   },
   "outputs": [
    {
     "data": {
      "text/plain": [
       "135      Works perfectly\n",
       "149         Works great!\n",
       "150         Works great!\n",
       "151         Works great!\n",
       "238    Wonderful Printer\n",
       "Name: Original review, dtype: object"
      ]
     },
     "execution_count": 22,
     "metadata": {},
     "output_type": "execute_result"
    }
   ],
   "source": [
    "textblob_df_bi[textblob_df_bi['Bigram Sentiment Polarity'] == 1]['Original review'].head(5)"
   ]
  },
  {
   "cell_type": "code",
   "execution_count": 23,
   "id": "4338501a",
   "metadata": {},
   "outputs": [
    {
     "data": {
      "text/plain": [
       "8150    horrible printer\n",
       "8151    HORRIBLE PRINTER\n",
       "Name: Original review, dtype: object"
      ]
     },
     "execution_count": 23,
     "metadata": {},
     "output_type": "execute_result"
    }
   ],
   "source": [
    "textblob_df_bi[textblob_df_bi['Bigram Sentiment Polarity'] == -1]['Original review'].head(5)"
   ]
  },
  {
   "cell_type": "code",
   "execution_count": 24,
   "id": "36a639d2",
   "metadata": {},
   "outputs": [],
   "source": [
    "# Create a new 'Sentiment' column based on 'Sentiment Polarity'\n",
    "\n",
    "textblob_df_bi['Sentiment'] = textblob_df_bi['Bigram Sentiment Polarity'].apply(lambda x: 'Positive' if x > 0 else ('Negative' if x < 0 else 'Neutral'))"
   ]
  },
  {
   "cell_type": "code",
   "execution_count": 25,
   "id": "6c80470a",
   "metadata": {},
   "outputs": [
    {
     "name": "stdout",
     "output_type": "stream",
     "text": [
      "Positive Sentiment Accuracy: 0.5560362875087849\n",
      "Negative Sentiment Accuracy: 0.732262382864912\n",
      "Neutral Sentiment Accuracy: 0.1531755915328105\n"
     ]
    }
   ],
   "source": [
    "# Comparing accuracy of the Textblob bigram model with the review ratings, assuming review ratings are 100% accurate\n",
    "\n",
    "# Create masks for each sentiment category\n",
    "positive_mask_bigram = textblob_df_bi['Sentiment'] == 'Positive'\n",
    "negative_mask_bigram = textblob_df_bi['Sentiment'] == 'Negative'\n",
    "neutral_mask_bigram = textblob_df_bi['Sentiment'] == 'Neutral'\n",
    "\n",
    "# Create masks for 'Review_rating' categories\n",
    "negative_rating_mask_bigram = textblob_df_bi['Review rating'] <= 2\n",
    "neutral_rating_mask_bigram = textblob_df_bi['Review rating'] == 3\n",
    "positive_rating_mask_bigram = textblob_df_bi['Review rating'] >= 4\n",
    "\n",
    "# Calculate accuracy for each sentiment category\n",
    "positive_accuracy_bigram = (textblob_df_bi.loc[positive_mask_bigram & positive_rating_mask_bigram].shape[0] + 1e-9) / (textblob_df_bi.loc[positive_mask_bigram].shape[0] + 1e-9)\n",
    "negative_accuracy_bigram = (textblob_df_bi.loc[negative_mask_bigram & negative_rating_mask_bigram].shape[0] + 1e-9) / (textblob_df_bi.loc[negative_mask_bigram].shape[0] + 1e-9)\n",
    "neutral_accuracy_bigram = (textblob_df_bi.loc[neutral_mask_bigram & neutral_rating_mask_bigram].shape[0] + 1e-9) / (textblob_df_bi.loc[neutral_mask_bigram].shape[0] + 1e-9)\n",
    "\n",
    "# Print the accuracies\n",
    "print(\"Positive Sentiment Accuracy:\", positive_accuracy_bigram)\n",
    "print(\"Negative Sentiment Accuracy:\", negative_accuracy_bigram)\n",
    "print(\"Neutral Sentiment Accuracy:\", neutral_accuracy_bigram)"
   ]
  },
  {
   "cell_type": "markdown",
   "id": "f92084b1",
   "metadata": {},
   "source": [
    "## Repeating for trigram"
   ]
  },
  {
   "cell_type": "code",
   "execution_count": 26,
   "id": "1692be88",
   "metadata": {},
   "outputs": [
    {
     "data": {
      "text/html": [
       "<div>\n",
       "<style scoped>\n",
       "    .dataframe tbody tr th:only-of-type {\n",
       "        vertical-align: middle;\n",
       "    }\n",
       "\n",
       "    .dataframe tbody tr th {\n",
       "        vertical-align: top;\n",
       "    }\n",
       "\n",
       "    .dataframe thead th {\n",
       "        text-align: right;\n",
       "    }\n",
       "</style>\n",
       "<table border=\"1\" class=\"dataframe\">\n",
       "  <thead>\n",
       "    <tr style=\"text-align: right;\">\n",
       "      <th></th>\n",
       "      <th>Review Model</th>\n",
       "      <th>Retailer</th>\n",
       "      <th>Review date</th>\n",
       "      <th>Review name</th>\n",
       "      <th>Review rating</th>\n",
       "      <th>Review title</th>\n",
       "      <th>Review Content</th>\n",
       "      <th>Verified Purchase or not</th>\n",
       "      <th>People_find_helpful</th>\n",
       "      <th>vine or not</th>\n",
       "      <th>...</th>\n",
       "      <th>title_stopwords</th>\n",
       "      <th>Brand</th>\n",
       "      <th>Full review</th>\n",
       "      <th>ID</th>\n",
       "      <th>Topic0</th>\n",
       "      <th>Topic1</th>\n",
       "      <th>Topic2</th>\n",
       "      <th>Topic3</th>\n",
       "      <th>Topic4</th>\n",
       "      <th>Trigram Sentiment Polarity</th>\n",
       "    </tr>\n",
       "  </thead>\n",
       "  <tbody>\n",
       "    <tr>\n",
       "      <th>0</th>\n",
       "      <td>Canon Pixma TS6420a</td>\n",
       "      <td>Amazon</td>\n",
       "      <td>2023-08-10</td>\n",
       "      <td>Ernest Birkholz</td>\n",
       "      <td>5</td>\n",
       "      <td>work great</td>\n",
       "      <td>easi instal work great</td>\n",
       "      <td>True</td>\n",
       "      <td>0</td>\n",
       "      <td>False</td>\n",
       "      <td>...</td>\n",
       "      <td>0</td>\n",
       "      <td>Canon</td>\n",
       "      <td>work great easi instal work great</td>\n",
       "      <td>0</td>\n",
       "      <td>0.192308</td>\n",
       "      <td>0.192344</td>\n",
       "      <td>0.192308</td>\n",
       "      <td>0.230732</td>\n",
       "      <td>0.192308</td>\n",
       "      <td>0.350000</td>\n",
       "    </tr>\n",
       "    <tr>\n",
       "      <th>1</th>\n",
       "      <td>HP OfficeJet Pro 9015e</td>\n",
       "      <td>Amazon</td>\n",
       "      <td>2022-06-04</td>\n",
       "      <td>mattey</td>\n",
       "      <td>3</td>\n",
       "      <td>spunki mid size</td>\n",
       "      <td>slower speed im use old model 8600 new 9015e s...</td>\n",
       "      <td>True</td>\n",
       "      <td>0</td>\n",
       "      <td>False</td>\n",
       "      <td>...</td>\n",
       "      <td>0</td>\n",
       "      <td>HP</td>\n",
       "      <td>spunki mid size slower speed im use old model ...</td>\n",
       "      <td>1</td>\n",
       "      <td>0.219016</td>\n",
       "      <td>0.111844</td>\n",
       "      <td>0.293459</td>\n",
       "      <td>0.163706</td>\n",
       "      <td>0.211975</td>\n",
       "      <td>0.026958</td>\n",
       "    </tr>\n",
       "    <tr>\n",
       "      <th>2</th>\n",
       "      <td>Canon PIXMA MG3620</td>\n",
       "      <td>Amazon</td>\n",
       "      <td>2023-03-15</td>\n",
       "      <td>Maria D</td>\n",
       "      <td>4</td>\n",
       "      <td>NaN</td>\n",
       "      <td>i</td>\n",
       "      <td>True</td>\n",
       "      <td>0</td>\n",
       "      <td>False</td>\n",
       "      <td>...</td>\n",
       "      <td>0</td>\n",
       "      <td>Canon</td>\n",
       "      <td>i</td>\n",
       "      <td>2</td>\n",
       "      <td>0.200007</td>\n",
       "      <td>0.199993</td>\n",
       "      <td>0.200005</td>\n",
       "      <td>0.200003</td>\n",
       "      <td>0.199992</td>\n",
       "      <td>0.000000</td>\n",
       "    </tr>\n",
       "    <tr>\n",
       "      <th>3</th>\n",
       "      <td>Epson - ET-3830</td>\n",
       "      <td>Amazon</td>\n",
       "      <td>2022-11-17</td>\n",
       "      <td>Ryan H</td>\n",
       "      <td>5</td>\n",
       "      <td>shag know he talk</td>\n",
       "      <td>yup slam upgrad paid littl front equival throw...</td>\n",
       "      <td>True</td>\n",
       "      <td>12</td>\n",
       "      <td>False</td>\n",
       "      <td>...</td>\n",
       "      <td>2</td>\n",
       "      <td>Epson</td>\n",
       "      <td>shag know he talk yup slam upgrad paid littl f...</td>\n",
       "      <td>3</td>\n",
       "      <td>0.168985</td>\n",
       "      <td>0.165481</td>\n",
       "      <td>0.239302</td>\n",
       "      <td>0.162820</td>\n",
       "      <td>0.263412</td>\n",
       "      <td>0.079116</td>\n",
       "    </tr>\n",
       "    <tr>\n",
       "      <th>4</th>\n",
       "      <td>HP ENVY 6055e</td>\n",
       "      <td>Amazon</td>\n",
       "      <td>2022-04-09</td>\n",
       "      <td>Sam</td>\n",
       "      <td>3</td>\n",
       "      <td>user friendli</td>\n",
       "      <td>would think someth simpl reconnect wifi would ...</td>\n",
       "      <td>True</td>\n",
       "      <td>0</td>\n",
       "      <td>False</td>\n",
       "      <td>...</td>\n",
       "      <td>0</td>\n",
       "      <td>HP</td>\n",
       "      <td>user friendli would think someth simpl reconne...</td>\n",
       "      <td>4</td>\n",
       "      <td>0.261938</td>\n",
       "      <td>0.203476</td>\n",
       "      <td>0.118563</td>\n",
       "      <td>0.275790</td>\n",
       "      <td>0.140233</td>\n",
       "      <td>0.009441</td>\n",
       "    </tr>\n",
       "  </tbody>\n",
       "</table>\n",
       "<p>5 rows × 33 columns</p>\n",
       "</div>"
      ],
      "text/plain": [
       "             Review Model Retailer Review date      Review name  \\\n",
       "0     Canon Pixma TS6420a   Amazon  2023-08-10  Ernest Birkholz   \n",
       "1  HP OfficeJet Pro 9015e   Amazon  2022-06-04           mattey   \n",
       "2      Canon PIXMA MG3620   Amazon  2023-03-15          Maria D   \n",
       "3         Epson - ET-3830   Amazon  2022-11-17           Ryan H   \n",
       "4           HP ENVY 6055e   Amazon  2022-04-09              Sam   \n",
       "\n",
       "   Review rating       Review title  \\\n",
       "0              5         work great   \n",
       "1              3    spunki mid size   \n",
       "2              4                NaN   \n",
       "3              5  shag know he talk   \n",
       "4              3      user friendli   \n",
       "\n",
       "                                      Review Content  \\\n",
       "0                             easi instal work great   \n",
       "1  slower speed im use old model 8600 new 9015e s...   \n",
       "2                                                  i   \n",
       "3  yup slam upgrad paid littl front equival throw...   \n",
       "4  would think someth simpl reconnect wifi would ...   \n",
       "\n",
       "   Verified Purchase or not  People_find_helpful  vine or not  ...  \\\n",
       "0                      True                    0        False  ...   \n",
       "1                      True                    0        False  ...   \n",
       "2                      True                    0        False  ...   \n",
       "3                      True                   12        False  ...   \n",
       "4                      True                    0        False  ...   \n",
       "\n",
       "  title_stopwords  Brand                                        Full review  \\\n",
       "0               0  Canon                  work great easi instal work great   \n",
       "1               0     HP  spunki mid size slower speed im use old model ...   \n",
       "2               0  Canon                                                  i   \n",
       "3               2  Epson  shag know he talk yup slam upgrad paid littl f...   \n",
       "4               0     HP  user friendli would think someth simpl reconne...   \n",
       "\n",
       "   ID    Topic0    Topic1    Topic2    Topic3    Topic4  \\\n",
       "0   0  0.192308  0.192344  0.192308  0.230732  0.192308   \n",
       "1   1  0.219016  0.111844  0.293459  0.163706  0.211975   \n",
       "2   2  0.200007  0.199993  0.200005  0.200003  0.199992   \n",
       "3   3  0.168985  0.165481  0.239302  0.162820  0.263412   \n",
       "4   4  0.261938  0.203476  0.118563  0.275790  0.140233   \n",
       "\n",
       "   Trigram Sentiment Polarity  \n",
       "0                    0.350000  \n",
       "1                    0.026958  \n",
       "2                    0.000000  \n",
       "3                    0.079116  \n",
       "4                    0.009441  \n",
       "\n",
       "[5 rows x 33 columns]"
      ]
     },
     "execution_count": 26,
     "metadata": {},
     "output_type": "execute_result"
    }
   ],
   "source": [
    "# Function to calculate trigram sentiment scores using TextBlob\n",
    "def analyze_trigram_sentiment(text):\n",
    "    trigrams = list(zip(text.split()[:-2], text.split()[1:-1], text.split()[2:]))  # Extract trigrams\n",
    "    trigram_polarities = []\n",
    "    \n",
    "    for trigram in trigrams:\n",
    "        analysis = TextBlob(' '.join(trigram))\n",
    "        trigram_polarity = analysis.sentiment.polarity\n",
    "        \n",
    "        # Normalize the trigram polarity to the range [-1, 1]\n",
    "        normalized_trigram_polarity = max(-1, min(1, trigram_polarity))\n",
    "        \n",
    "        trigram_polarities.append(normalized_trigram_polarity)\n",
    "    \n",
    "    # Calculate the average trigram polarity\n",
    "    if trigram_polarities:\n",
    "        average_trigram_polarity = sum(trigram_polarities) / len(trigram_polarities)\n",
    "    else:\n",
    "        average_trigram_polarity = 0.0  # Handle case with no trigrams\n",
    "    \n",
    "    return average_trigram_polarity\n",
    "\n",
    "# Cloning the dataframe for trigram analysis\n",
    "textblob_df_tri = df_SA.copy()\n",
    "\n",
    "#Converting Review Content to string type in order to run TextBlob Sentiment Analysis\n",
    "textblob_df_tri['Original review'] = textblob_df_tri['Original review'].astype(str)\n",
    "\n",
    "# Apply bigram sentiment analysis function to the 'Original review' column\n",
    "textblob_df_tri['Trigram Sentiment Polarity'] = textblob_df_tri['Original review'].apply(analyze_trigram_sentiment)\n",
    "\n",
    "# Display the DataFrame with trigram sentiment scores\n",
    "textblob_df_tri.head()"
   ]
  },
  {
   "cell_type": "markdown",
   "id": "74c88b3b",
   "metadata": {},
   "source": [
    "## Reviewing some examples to check if the model works"
   ]
  },
  {
   "cell_type": "code",
   "execution_count": 27,
   "id": "a62f3ec7",
   "metadata": {
    "scrolled": false
   },
   "outputs": [
    {
     "data": {
      "text/plain": [
       "8354                     Great with Bluetooth!!!\n",
       "8847    Excellent quality with excellent support\n",
       "9790                          best printer ever.\n",
       "Name: Original review, dtype: object"
      ]
     },
     "execution_count": 27,
     "metadata": {},
     "output_type": "execute_result"
    }
   ],
   "source": [
    "textblob_df_tri[textblob_df_tri['Trigram Sentiment Polarity'] == 1]['Original review'].head(5)"
   ]
  },
  {
   "cell_type": "code",
   "execution_count": 28,
   "id": "469460a3",
   "metadata": {},
   "outputs": [
    {
     "data": {
      "text/plain": [
       "98      Worst printer ever\n",
       "8105      Hp is disgusting\n",
       "Name: Original review, dtype: object"
      ]
     },
     "execution_count": 28,
     "metadata": {},
     "output_type": "execute_result"
    }
   ],
   "source": [
    "textblob_df_tri[textblob_df_tri['Trigram Sentiment Polarity'] == -1]['Original review'].head(5)"
   ]
  },
  {
   "cell_type": "code",
   "execution_count": 133,
   "id": "4c6d3c3e",
   "metadata": {},
   "outputs": [],
   "source": [
    "# Creating a new 'Sentiment' column based on 'Sentiment Polarity'\n",
    "textblob_df_tri['Sentiment'] = textblob_df_tri['Trigram Sentiment Polarity'].apply(lambda x: 'Positive' if x > 0 else ('Negative' if x < 0 else 'Neutral'))\n"
   ]
  },
  {
   "cell_type": "code",
   "execution_count": 134,
   "id": "529bd6d2",
   "metadata": {},
   "outputs": [
    {
     "name": "stdout",
     "output_type": "stream",
     "text": [
      "Positive Sentiment Accuracy: 0.5544483985765758\n",
      "Negative Sentiment Accuracy: 0.7157118055556789\n",
      "Neutral Sentiment Accuracy: 0.14431818181915418\n"
     ]
    }
   ],
   "source": [
    "# Comparing accuracy of the Textblob trigram model with the review ratings, assuming review ratings are 100% accurate\n",
    "\n",
    "# Creating masks for each sentiment category\n",
    "positive_mask_trigram = textblob_df_tri['Sentiment'] == 'Positive'\n",
    "negative_mask_trigram = textblob_df_tri['Sentiment'] == 'Negative'\n",
    "neutral_mask_trigram = textblob_df_tri['Sentiment'] == 'Neutral'\n",
    "\n",
    "# Creating masks for 'Review_rating' categories\n",
    "negative_rating_mask_trigram = textblob_df_tri['Review rating'] <= 2\n",
    "neutral_rating_mask_trigram = textblob_df_tri['Review rating'] == 3\n",
    "positive_rating_mask_trigram = textblob_df_tri['Review rating'] >= 4\n",
    "\n",
    "# Calculating accuracy for each sentiment category\n",
    "positive_accuracy_trigram = (textblob_df_tri.loc[positive_mask_trigram & positive_rating_mask_trigram].shape[0] + 1e-9) / (textblob_df_tri.loc[positive_mask_trigram].shape[0] + 1e-9)\n",
    "negative_accuracy_trigram = (textblob_df_tri.loc[negative_mask_trigram & negative_rating_mask_trigram].shape[0] + 1e-9) / (textblob_df_tri.loc[negative_mask_trigram].shape[0] + 1e-9)\n",
    "neutral_accuracy_trigram = (textblob_df_tri.loc[neutral_mask_trigram & neutral_rating_mask_trigram].shape[0] + 1e-9) / (textblob_df_tri.loc[neutral_mask_trigram].shape[0] + 1e-9)\n",
    "\n",
    "# Printing the accuracies\n",
    "print(\"Positive Sentiment Accuracy:\", positive_accuracy_trigram)\n",
    "print(\"Negative Sentiment Accuracy:\", negative_accuracy_trigram)\n",
    "print(\"Neutral Sentiment Accuracy:\", neutral_accuracy_trigram)"
   ]
  },
  {
   "cell_type": "code",
   "execution_count": 31,
   "id": "8468f113",
   "metadata": {},
   "outputs": [
    {
     "name": "stdout",
     "output_type": "stream",
     "text": [
      "Accuracy Summary and Comparison:\n",
      "Positive Sentiment:\n",
      "Unigram Accuracy: 0.5713669685209758\n",
      "Bigram Accuracy: 0.5560362875087849\n",
      "Trigram Accuracy: 0.5544483985765758\n",
      "\n",
      "Negative Sentiment:\n",
      "Unigram Accuracy: 0.7256817256818373\n",
      "Bigram Accuracy: 0.732262382864912\n",
      "Trigram Accuracy: 0.7157118055556789\n",
      "\n",
      "Neutral Sentiment:\n",
      "Unigram Accuracy: 0.15597484276835727\n",
      "Bigram Accuracy: 0.1531755915328105\n",
      "Trigram Accuracy: 0.14431818181915418\n"
     ]
    }
   ],
   "source": [
    "# Summarizing and comparing accuracy values across the 3 n-grams\n",
    "print(\"Accuracy Summary and Comparison:\")\n",
    "print(\"Positive Sentiment:\")\n",
    "print(\"Unigram Accuracy:\", positive_accuracy_unigram)\n",
    "print(\"Bigram Accuracy:\", positive_accuracy_bigram)\n",
    "print(\"Trigram Accuracy:\", positive_accuracy_trigram)\n",
    "\n",
    "print(\"\\nNegative Sentiment:\")\n",
    "print(\"Unigram Accuracy:\", negative_accuracy_unigram)\n",
    "print(\"Bigram Accuracy:\", negative_accuracy_bigram)\n",
    "print(\"Trigram Accuracy:\", negative_accuracy_trigram)\n",
    "\n",
    "print(\"\\nNeutral Sentiment:\")\n",
    "print(\"Unigram Accuracy:\", neutral_accuracy_unigram)\n",
    "print(\"Bigram Accuracy:\", neutral_accuracy_bigram)\n",
    "print(\"Trigram Accuracy:\", neutral_accuracy_trigram)"
   ]
  },
  {
   "cell_type": "markdown",
   "id": "6a483926",
   "metadata": {},
   "source": [
    "Seems like there is not a lot of differences between the n-grams. We'll take the original unigram model and compare it against the Vader model."
   ]
  },
  {
   "cell_type": "code",
   "execution_count": 32,
   "id": "55c57b23",
   "metadata": {},
   "outputs": [
    {
     "name": "stdout",
     "output_type": "stream",
     "text": [
      "Accuracy Summary and Comparison:\n",
      "Positive Sentiment:\n",
      "Textblob Accuracy: 0.5713669685209758\n",
      "Vader Accuracy: 0.6216875304829098\n",
      "\n",
      "Negative Sentiment:\n",
      "Textblob Accuracy: 0.7256817256818373\n",
      "Vader Accuracy: 0.6848596978107663\n",
      "\n",
      "Neutral Sentiment:\n",
      "Textblob Accuracy: 0.15597484276835727\n",
      "Vader Accuracy: 0.17668711656542738\n"
     ]
    }
   ],
   "source": [
    "# Comparison of unigram vs Vader\n",
    "\n",
    "print(\"Accuracy Summary and Comparison:\")\n",
    "print(\"Positive Sentiment:\")\n",
    "print(\"Textblob Accuracy:\", positive_accuracy_unigram)\n",
    "print(\"Vader Accuracy:\", positive_accuracy_vader)\n",
    "\n",
    "print(\"\\nNegative Sentiment:\")\n",
    "print(\"Textblob Accuracy:\", negative_accuracy_unigram)\n",
    "print(\"Vader Accuracy:\", negative_accuracy_vader)\n",
    "\n",
    "print(\"\\nNeutral Sentiment:\")\n",
    "print(\"Textblob Accuracy:\", neutral_accuracy_unigram)\n",
    "print(\"Vader Accuracy:\", neutral_accuracy_vader)"
   ]
  },
  {
   "cell_type": "code",
   "execution_count": 146,
   "id": "e0fc6ed4",
   "metadata": {},
   "outputs": [
    {
     "name": "stdout",
     "output_type": "stream",
     "text": [
      "Confusion Matrix Vader:\n",
      "[[3824 1594  733]\n",
      " [ 479 2221  543]\n",
      " [ 350  321  144]]\n",
      "\n",
      "Classification Report Vader:\n",
      "              precision    recall  f1-score   support\n",
      "\n",
      "    Positive       0.82      0.62      0.71      6151\n",
      "    Negative       0.54      0.68      0.60      3243\n",
      "     Neutral       0.10      0.18      0.13       815\n",
      "\n",
      "    accuracy                           0.61     10209\n",
      "   macro avg       0.49      0.49      0.48     10209\n",
      "weighted avg       0.67      0.61      0.63     10209\n",
      "\n"
     ]
    }
   ],
   "source": [
    "# Comparing the accuracy of sentiment analysis between the two models using confusion matrix and overall accuracy\n",
    "\n",
    "from sklearn.metrics import confusion_matrix, classification_report\n",
    "\n",
    "# Creating a mapping of sentiment labels based on 'Review_rating'\n",
    "sentiment_mapping = {\n",
    "    'Negative': vaders['Review_rating'] <= 2,\n",
    "    'Neutral': vaders['Review_rating'] == 3,\n",
    "    'Positive': vaders['Review_rating'] >= 4\n",
    "}\n",
    "\n",
    "# Creating a list of true sentiments based on 'Review_rating'\n",
    "true_sentiments = ['Negative' if sentiment_mapping['Negative'][i] else ('Neutral' if sentiment_mapping['Neutral'][i] else 'Positive') for i in range(len(vaders))]\n",
    "\n",
    "# Creating a confusion matrix\n",
    "confusion_vader = confusion_matrix(vaders['Sentiment'], true_sentiments, labels=['Positive', 'Negative', 'Neutral'])\n",
    "\n",
    "# Prining the confusion matrix\n",
    "print(\"Confusion Matrix Vader:\")\n",
    "print(confusion_vader)\n",
    "\n",
    "# Calculating and printing classification report\n",
    "vader_report = classification_report(vaders['Sentiment'], true_sentiments, labels=['Positive', 'Negative', 'Neutral'])\n",
    "print(\"\\nClassification Report Vader:\")\n",
    "print(vader_report)"
   ]
  },
  {
   "cell_type": "code",
   "execution_count": 148,
   "id": "b80d3744",
   "metadata": {},
   "outputs": [
    {
     "name": "stdout",
     "output_type": "stream",
     "text": [
      "Confusion Matrix Vader:\n",
      "[[2613  964 2574]\n",
      " [ 186 1506 1551]\n",
      " [ 212  193  410]]\n",
      "\n",
      "Classification Report Vader:\n",
      "              precision    recall  f1-score   support\n",
      "\n",
      "    Positive       0.87      0.42      0.57      6151\n",
      "    Negative       0.57      0.46      0.51      3243\n",
      "     Neutral       0.09      0.50      0.15       815\n",
      "\n",
      "    accuracy                           0.44     10209\n",
      "   macro avg       0.51      0.46      0.41     10209\n",
      "weighted avg       0.71      0.44      0.52     10209\n",
      "\n"
     ]
    }
   ],
   "source": [
    "# Comparing the accuracy of sentiment analysis between the two models using confusion matrix and overall accuracy\n",
    "\n",
    "from sklearn.metrics import confusion_matrix, classification_report\n",
    "\n",
    "# Creating a mapping of sentiment labels based on 'Review_rating'\n",
    "sentiment_mapping = {\n",
    "    'Negative': vaders['Review_rating'] == 1,\n",
    "    'Neutral': (vaders['Review_rating'] >=2) & (vaders['Review_rating'] <=4),\n",
    "    'Positive': vaders['Review_rating'] == 5\n",
    "}\n",
    "\n",
    "# Creating a list of true sentiments based on 'Review_rating'\n",
    "true_sentiments = ['Negative' if sentiment_mapping['Negative'][i] else ('Neutral' if sentiment_mapping['Neutral'][i] else 'Positive') for i in range(len(vaders))]\n",
    "\n",
    "# Creating a confusion matrix\n",
    "confusion_vader = confusion_matrix(vaders['Sentiment'], true_sentiments, labels=['Positive', 'Negative', 'Neutral'])\n",
    "\n",
    "# Prining the confusion matrix\n",
    "print(\"Confusion Matrix Vader:\")\n",
    "print(confusion_vader)\n",
    "\n",
    "# Calculating and printing classification report\n",
    "vader_report = classification_report(vaders['Sentiment'], true_sentiments, labels=['Positive', 'Negative', 'Neutral'])\n",
    "print(\"\\nClassification Report Vader:\")\n",
    "print(vader_report)"
   ]
  },
  {
   "cell_type": "code",
   "execution_count": 34,
   "id": "55a8e10b",
   "metadata": {},
   "outputs": [
    {
     "name": "stdout",
     "output_type": "stream",
     "text": [
      "Confusion Matrix Textblob:\n",
      "[[3975 2034  948]\n",
      " [ 326 1783  348]\n",
      " [ 352  319  124]]\n",
      "\n",
      "Classification Report Textblob:\n",
      "              precision    recall  f1-score   support\n",
      "\n",
      "    Positive       0.85      0.57      0.68      6957\n",
      "    Negative       0.43      0.73      0.54      2457\n",
      "     Neutral       0.09      0.16      0.11       795\n",
      "\n",
      "    accuracy                           0.58     10209\n",
      "   macro avg       0.46      0.48      0.45     10209\n",
      "weighted avg       0.69      0.58      0.61     10209\n",
      "\n"
     ]
    }
   ],
   "source": [
    "# Creating a confusion matrix\n",
    "confusion_textblob = confusion_matrix(textblob_df['Sentiment'], true_sentiments, labels=['Positive', 'Negative', 'Neutral'])\n",
    "\n",
    "# Printing the confusion matrix\n",
    "print(\"Confusion Matrix Textblob:\")\n",
    "print(confusion_textblob)\n",
    "\n",
    "# Calculating and printing classification report\n",
    "textblob_report = classification_report(textblob_df['Sentiment'], true_sentiments, labels=['Positive', 'Negative', 'Neutral'])\n",
    "print(\"\\nClassification Report Textblob:\")\n",
    "print(textblob_report)"
   ]
  },
  {
   "cell_type": "markdown",
   "id": "f36dda92",
   "metadata": {},
   "source": [
    "#### As shown, the overall accuracy of Vader is 61%, while Textblob is 58%. Hence we will be using the Vader model for further analysis."
   ]
  },
  {
   "cell_type": "markdown",
   "id": "cc3864a9",
   "metadata": {},
   "source": [
    "## Checking the split of positive and negative sentiments by Brand"
   ]
  },
  {
   "cell_type": "code",
   "execution_count": 36,
   "id": "c7a4cc6d",
   "metadata": {},
   "outputs": [
    {
     "data": {
      "image/png": "[encoded data removed]",
      "text/plain": [
       "<Figure size 1200x600 with 1 Axes>"
      ]
     },
     "metadata": {},
     "output_type": "display_data"
    }
   ],
   "source": [
    "# Defining the thresholds for categorization\n",
    "negative_threshold = -0.05\n",
    "positive_threshold = 0.05\n",
    "\n",
    "# Grouping the data by 'Brand' and calculate the percentage of compound scores in different categories\n",
    "brand_grouped = vaders.groupby('Brand')['compound'].agg(\n",
    "    Negative=lambda x: (x <= negative_threshold).mean() * 100,\n",
    "    Neutral=lambda x: ((x > negative_threshold) & (x <= positive_threshold)).mean() * 100,\n",
    "    Positive=lambda x: (x >= positive_threshold).mean() * 100).reset_index()\n",
    "\n",
    "# Sorting the DataFrame by 'Brand' for a better visualization\n",
    "brand_grouped = brand_grouped.sort_values(by='Brand')\n",
    "\n",
    "# Defining the colors for negative, neutral, and positive\n",
    "negative_color = '#E74C3C'\n",
    "neutral_color = '#F1C40F' \n",
    "positive_color = '#27AE60' \n",
    "\n",
    "# Creating the plot\n",
    "fig, ax = plt.subplots(figsize=(12, 6))\n",
    "bar_width = 0.2\n",
    "\n",
    "# Creating an array of x values for each group of bars\n",
    "index = np.arange(len(brand_grouped))\n",
    "\n",
    "# Ploting a bar chart for each brand and category\n",
    "ax.bar(index - bar_width, brand_grouped['Negative'], bar_width, label='Negative', color=negative_color)\n",
    "ax.bar(index, brand_grouped['Neutral'], bar_width, label='Neutral', color=neutral_color)\n",
    "ax.bar(index + bar_width, brand_grouped['Positive'], bar_width, label='Positive', color=positive_color)\n",
    "\n",
    "# Setting the x-axis ticks and labels\n",
    "ax.set_xticks(index)\n",
    "ax.set_xticklabels(brand_grouped['Brand'], rotation=90)\n",
    "\n",
    "# Setting the y-axis label and title\n",
    "ax.set_ylabel('Percentage')\n",
    "ax.set_title('Compound Score Categories by Brand')\n",
    "\n",
    "# Displaying percentages on the chart above each bar\n",
    "for i, row in brand_grouped.iterrows():\n",
    "    ax.text(i - bar_width, row['Negative'], f'{row[\"Negative\"]:.2f}%', ha='center', va='bottom', color='black')\n",
    "    ax.text(i, row['Neutral'], f'{row[\"Neutral\"]:.2f}%', ha='center', va='bottom', color='black')\n",
    "    ax.text(i + bar_width, row['Positive'], f'{row[\"Positive\"]:.2f}%', ha='center', va='bottom', color='black')\n",
    "\n",
    "# Adding a legend\n",
    "ax.legend()\n",
    "\n",
    "# Showing the plot\n",
    "plt.tight_layout()\n",
    "plt.show()"
   ]
  },
  {
   "cell_type": "markdown",
   "id": "7aad3909",
   "metadata": {},
   "source": [
    "Epson has the highest percentage of positive sentiments, followed closely by HP and then Canon.\n",
    "\n",
    "For negative sentiments, Canon has the most number, followed by HP and then Epson having the least."
   ]
  },
  {
   "cell_type": "markdown",
   "id": "1e96af3b",
   "metadata": {},
   "source": [
    "## Analysizing Sentiments by Topic"
   ]
  },
  {
   "cell_type": "code",
   "execution_count": 37,
   "id": "649f8d52",
   "metadata": {},
   "outputs": [],
   "source": [
    "vaders[\"DomTopic\"] = vaders.iloc[:,[31, 32, 33, 34, 35]].idxmax(axis=1)"
   ]
  },
  {
   "cell_type": "markdown",
   "id": "e2c596c6",
   "metadata": {},
   "source": [
    "Topics identified are as follows: \n",
    "\n",
    "- 0: Print Issues\n",
    "- 1: Support and Returns\n",
    "- 2: Print and Scan Quality\n",
    "- 3: Setup and Connecting\n",
    "- 4: Cartridge Replacement"
   ]
  },
  {
   "cell_type": "code",
   "execution_count": 38,
   "id": "694ba884",
   "metadata": {},
   "outputs": [
    {
     "data": {
      "image/png": "[encoded data removed]",
      "text/plain": [
       "<Figure size 1000x600 with 1 Axes>"
      ]
     },
     "metadata": {},
     "output_type": "display_data"
    }
   ],
   "source": [
    "# Adding a new column Count\n",
    "vaders['Count'] = 1  # Set 'Count' to 1 for each row\n",
    "\n",
    "# Grouping the data by 'Sentiment' and 'Dom Topic' and calculate the percentage\n",
    "topic_grouped = vaders.groupby(['Sentiment', 'DomTopic'])['Count'].sum().unstack(level=1)\n",
    "topic_grouped = topic_grouped.div(topic_grouped.sum(axis=1), axis=0) * 100\n",
    "\n",
    "# Creating the bar chart\n",
    "ax = topic_grouped.plot(kind='bar', figsize=(10, 6), width=0.7)\n",
    "\n",
    "# Setting labels and title\n",
    "plt.xlabel('Sentiment')\n",
    "plt.ylabel('% of Topics')\n",
    "plt.title('Sentiment Distribution by Topic')\n",
    "\n",
    "# Relabelling the legend\n",
    "new_labels = {\n",
    "    0: 'Print Issues',\n",
    "    1: 'Support and Returns',\n",
    "    2: 'Print and Scan Quality',\n",
    "    3: 'Setup and Connecting',\n",
    "    4: 'Cartridge Replacement'\n",
    "}\n",
    "\n",
    "# Modifying the legend with custom labels\n",
    "legend = ax.legend(new_labels.values(), title='Topics')\n",
    "legend.set_bbox_to_anchor((1, 1))  \n",
    "\n",
    "# Displaying percentages above each bar\n",
    "for p in ax.patches:\n",
    "    ax.annotate(f'{p.get_height():.2f}%', (p.get_x() + p.get_width() / 2., p.get_height()), ha='center', va='bottom')\n",
    "\n",
    "# Showing the plot\n",
    "plt.show()"
   ]
  },
  {
   "cell_type": "markdown",
   "id": "cbda827d",
   "metadata": {},
   "source": [
    "Here's a summary of the observations from the sentiments by each topic.\n",
    "\n",
    "Topic 1 (Support and Returns) have the highest proportion of negative sentiments, and at the same time it has the second lowest positive sentiments. Seems like customers may face poor service on general tech support as well as performing returns. In a way, when people require suppoer or wants to perform returns, there might already be a negative intention behind it.\n",
    "\n",
    "Topic 2 (Print and Scan Quality) has the highest proportion of positive sentiments while at the same time having the least proportion of negative sentiments. There seems to be a good appreciation of print quality across the board."
   ]
  },
  {
   "cell_type": "markdown",
   "id": "771a7dc4",
   "metadata": {},
   "source": [
    "### Analyzing the sentiments by topic for each brand"
   ]
  },
  {
   "cell_type": "markdown",
   "id": "3e1a04c2",
   "metadata": {},
   "source": [
    "Now that we have a general overview of the sentiments of each topic, we'll dive deeper into understanding what are the sentiments of each topic for each brand to have a comparison."
   ]
  },
  {
   "cell_type": "code",
   "execution_count": 39,
   "id": "1a0e77e1",
   "metadata": {},
   "outputs": [
    {
     "data": {
      "image/png": "[encoded data removed]",
      "text/plain": [
       "<Figure size 1000x1000 with 3 Axes>"
      ]
     },
     "metadata": {},
     "output_type": "display_data"
    }
   ],
   "source": [
    "# Creating a new column 'Count'\n",
    "vaders['Count'] = 1  # Set 'Count' to 1 for each row\n",
    "\n",
    "# Getting unique brands\n",
    "brands = vaders['Brand'].unique()\n",
    "\n",
    "# Defining topic labels\n",
    "topic_labels = {\n",
    "    'Topic0': 'Print Issues',\n",
    "    'Topic1': 'Support and Returns',\n",
    "    'Topic2': 'Print and Scan Quality',\n",
    "    'Topic3': 'Setup and Connecting',\n",
    "    'Topic4': 'Cartridge Replacement'\n",
    "}\n",
    "\n",
    "# Creating a 3x1 grid for three subplots with separate y-axes\n",
    "fig, axes = plt.subplots(len(brands), 1, figsize=(10, 10), sharex=True, sharey=True)\n",
    "\n",
    "for i, brand in enumerate(brands):\n",
    "    brand_data = vaders[vaders['Brand'] == brand]\n",
    "    brand_grouped = brand_data.groupby(['Sentiment', 'DomTopic'])['Count'].sum().unstack(level=1)\n",
    "\n",
    "    # Calculating the percentage\n",
    "    brand_grouped = brand_grouped.div(brand_grouped.sum(axis=1), axis=0) * 100\n",
    "\n",
    "    ax = brand_grouped.plot(kind='bar', ax=axes[i], width=0.7)\n",
    "\n",
    "    # Setting labels and title for each subplot\n",
    "    ax.set_xlabel('Sentiment')\n",
    "    ax.set_ylabel('% of Topics')\n",
    "    ax.set_title(f'Sentiment Distribution by Topic ({brand})')\n",
    "\n",
    "    # Displaying percentages above each bar \n",
    "    for p in ax.patches:\n",
    "        ax.annotate(f'{p.get_height():.2f}%', (p.get_x() + p.get_width() / 2., p.get_height()), ha='center', va='bottom', fontsize=6)\n",
    "\n",
    "    # Modifying the legend with topic labels\n",
    "    ax.legend(labels=[topic_labels[col] for col in brand_grouped.columns], title='Topics', bbox_to_anchor=(1.02, 1), loc='upper left')\n",
    "\n",
    "plt.tight_layout()\n",
    "plt.show()\n"
   ]
  },
  {
   "cell_type": "markdown",
   "id": "8cc79141",
   "metadata": {},
   "source": [
    "## Reviewing the outputs"
   ]
  },
  {
   "cell_type": "code",
   "execution_count": 86,
   "id": "223b6a28",
   "metadata": {
    "scrolled": true
   },
   "outputs": [
    {
     "data": {
      "text/plain": [
       "'I am extremely impressed with this printer.  Arrived (same day!!) very pleased with that!  I needed a printer asap and after checking out the reviews thought this was the best fit for me.  I needed something quickly and something easy to set up.  This printer did not disappoint.  Very pleased with style, function, set-up and delivery.  If I could give 10 stars I would.'"
      ]
     },
     "execution_count": 86,
     "metadata": {},
     "output_type": "execute_result"
    }
   ],
   "source": [
    "# Showing a sample of positive sentiment for HP topic 2\n",
    "vaders[(vaders['DomTopic'] == 'Topic2') & (vaders['Brand'] == 'HP')].sort_values(by='compound', ascending=False).iloc[105]['Original review']"
   ]
  },
  {
   "cell_type": "code",
   "execution_count": 137,
   "id": "7ea641ea",
   "metadata": {},
   "outputs": [
    {
     "data": {
      "text/plain": [
       "'It works as advertised.'"
      ]
     },
     "execution_count": 137,
     "metadata": {},
     "output_type": "execute_result"
    }
   ],
   "source": [
    "# Showing a sample of neutral sentiment for HP topic 2\n",
    "vaders[(vaders['DomTopic'] == 'Topic2') & (vaders['Brand'] == 'HP') & (vaders['compound'] == 0) & (vaders['Review_rating'] == 3)]['Original review'].values[3]"
   ]
  },
  {
   "cell_type": "code",
   "execution_count": 136,
   "id": "42fb0d30",
   "metadata": {},
   "outputs": [
    {
     "data": {
      "text/plain": [
       "\"My previous printer was a wireless HP that lasted about 7 years with fairly heavy use. When the print quality became a bit fuzzy for finance reports and the paper size sensor no longer worked for envelopes, I got another HP of a bit higher quality. They're easy and reliable for a home office. The Envy 6055e was not hard to set up, but you do have to follow instructions closely.  In very little time I had the old printer replaced and I was back in business printing, scanning and copying with no trouble. I'm no an expert yet, but it's all easy to learn\""
      ]
     },
     "execution_count": 136,
     "metadata": {},
     "output_type": "execute_result"
    }
   ],
   "source": [
    "# Showing a sample of negative sentiment for HP topic 2\n",
    "vaders[(vaders['DomTopic'] == 'Topic2') & (vaders['Brand'] == 'HP') & (vaders['compound'] < -0.5) & (vaders['Review_rating'] == 5)]['Original review'].values[2]"
   ]
  },
  {
   "cell_type": "markdown",
   "id": "552abd46",
   "metadata": {},
   "source": [
    "The sentiments for HP seems to be quite evenly distributed across the board. The highest proportion of negative sentiments are towards Topic 1 (Support and Returns), which was the same as the general overview, while the lowest proportion of negative sentiments are towards Topic 2 (Print Quality). For positive sentiments, Topic 2 has the highest but it is not too far off from Topic 3 (Setup and Connecting). This may suggest that HP is an all-rounder, and generally people have good points to say about each of the printer's functions. However, this could also mean that HP does not have a USP (unique selling point).\n",
    "\n",
    "The sentiments for Canon are mixed. It has 3 main topics that dominates the negative sentiments, Topic 0 (Print Issues), 1 (Support and Returns), and 3 (Setup and Connecting). For positive sentiments, Topics 2 and 3 are the leading topics. Topic 3 seems to have differing opinions, could either be printer related or users who may not be familiar with setting up connection for the first time (user manual not detailed or easy to understand).\n",
    "\n",
    "The sentiments for Epson are generally evenly distributed, with Topics 0 and 1 being dominant in the negative sentiments. For positive sentiments, Topic 2 leads way ahead, suggesting that Print Quality is the standout feature for Epson printers."
   ]
  }
 ],
 "metadata": {
  "kernelspec": {
   "display_name": "Python 3 (ipykernel)",
   "language": "python",
   "name": "python3"
  },
  "language_info": {
   "codemirror_mode": {
    "name": "ipython",
    "version": 3
   },
   "file_extension": ".py",
   "mimetype": "text/x-python",
   "name": "python",
   "nbconvert_exporter": "python",
   "pygments_lexer": "ipython3",
   "version": "3.10.8"
  }
 },
 "nbformat": 4,
 "nbformat_minor": 5
}
